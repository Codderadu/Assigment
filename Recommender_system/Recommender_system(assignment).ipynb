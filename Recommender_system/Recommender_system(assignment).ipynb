{
 "cells": [
  {
   "cell_type": "markdown",
   "id": "3c14ccc2",
   "metadata": {},
   "source": [
    "### 1. Write Application of Recommender System."
   ]
  },
  {
   "cell_type": "markdown",
   "id": "21f96d6b",
   "metadata": {},
   "source": [
    "###### 1. E-Commerce\n",
    "Is an industry where recommendation systems were first widely used. With millions of customers and data on their online behavior, e-commerce companies are best suited to generate accurate recommendations.\n",
    "###### 2. Retail\n",
    "Target scared shoppers back in the 2000s when Target systems were able to predict pregnancies even before mothers realized their own pregnancies. Shopping data is the most valuable data as it is the most direct data point on a customer’s intent. Retailers with troves of shopping data are at the forefront of companies making accurate recommendations.\n",
    "\n",
    "###### 3. Media\n",
    "Similar to e-commerce, media businesses are one of the first to jump into recommendations. It is difficult to see a news site without a recommendation system.\n",
    "\n",
    "###### 4. Banking\n",
    "A mass-market product that is consumed digitally by millions. Banking for the masses and SMEs are prime for recommendations. Knowing a customer’s detailed financial situation, along with their past preferences, coupled with data of thousands of similar users, is quite powerful.\n",
    "\n",
    "###### 5. Telecom\n",
    "It Shares similar dynamics with banking. Telcos have access to millions of customers whose every interaction is recorded. Their product range is also rather limited compared to other industries, making recommendations in telecom an easier problem.\n",
    "\n",
    "###### 6. Utilities\n",
    "Similar dynamics with telecom, but utilities have an even narrower range of products, making recommendations rather simple."
   ]
  },
  {
   "cell_type": "markdown",
   "id": "6570cfd4",
   "metadata": {},
   "source": [
    "### 2. What are Data Collection Method in Recommender System."
   ]
  },
  {
   "cell_type": "markdown",
   "id": "deef127c",
   "metadata": {},
   "source": [
    "Data collection in recommender systems can be broadly classified into two categories:\n",
    "\n",
    "###### Explicit Feedback:\n",
    "This is the data that users consciously provide to the system. It includes ratings, reviews, likes, and dislikes. While explicit feedback is valuable as it directly reflects user preferences, it can be challenging to collect as it requires user effort.\n",
    "\n",
    "###### Implicit Feedback: \n",
    "This is the data collected from user actions and behavior. It includes clicks, views, browsing history, and purchase history. Implicit feedback is easier to collect as it doesn't require any extra effort from the user. However, interpreting implicit feedback can be challenging as the absence of an action doesn't necessarily indicate disinterest."
   ]
  },
  {
   "cell_type": "markdown",
   "id": "35fb461e",
   "metadata": {},
   "source": [
    "### 3. Build a Basic Recommender system"
   ]
  },
  {
   "cell_type": "code",
   "execution_count": 3,
   "id": "277a17eb",
   "metadata": {},
   "outputs": [],
   "source": [
    "import numpy as np\n",
    "import pandas as pd\n",
    "import matplotlib.pyplot as plt\n",
    "import seaborn as sns\n",
    "import warnings\n",
    "warnings.filterwarnings(\"ignore\")"
   ]
  },
  {
   "cell_type": "code",
   "execution_count": 5,
   "id": "10074ec2",
   "metadata": {},
   "outputs": [],
   "source": [
    "movie=pd.read_csv(\"movies.csv\")"
   ]
  },
  {
   "cell_type": "code",
   "execution_count": 6,
   "id": "b27eb2e7",
   "metadata": {},
   "outputs": [],
   "source": [
    "rating=pd.read_csv(\"ratings.csv\")"
   ]
  },
  {
   "cell_type": "code",
   "execution_count": 8,
   "id": "e82abb5b",
   "metadata": {},
   "outputs": [
    {
     "data": {
      "text/html": [
       "<div>\n",
       "<style scoped>\n",
       "    .dataframe tbody tr th:only-of-type {\n",
       "        vertical-align: middle;\n",
       "    }\n",
       "\n",
       "    .dataframe tbody tr th {\n",
       "        vertical-align: top;\n",
       "    }\n",
       "\n",
       "    .dataframe thead th {\n",
       "        text-align: right;\n",
       "    }\n",
       "</style>\n",
       "<table border=\"1\" class=\"dataframe\">\n",
       "  <thead>\n",
       "    <tr style=\"text-align: right;\">\n",
       "      <th></th>\n",
       "      <th>movieId</th>\n",
       "      <th>title</th>\n",
       "      <th>genres</th>\n",
       "    </tr>\n",
       "  </thead>\n",
       "  <tbody>\n",
       "    <tr>\n",
       "      <th>0</th>\n",
       "      <td>1</td>\n",
       "      <td>Toy Story (1995)</td>\n",
       "      <td>Adventure|Animation|Children|Comedy|Fantasy</td>\n",
       "    </tr>\n",
       "    <tr>\n",
       "      <th>1</th>\n",
       "      <td>2</td>\n",
       "      <td>Jumanji (1995)</td>\n",
       "      <td>Adventure|Children|Fantasy</td>\n",
       "    </tr>\n",
       "    <tr>\n",
       "      <th>2</th>\n",
       "      <td>3</td>\n",
       "      <td>Grumpier Old Men (1995)</td>\n",
       "      <td>Comedy|Romance</td>\n",
       "    </tr>\n",
       "    <tr>\n",
       "      <th>3</th>\n",
       "      <td>4</td>\n",
       "      <td>Waiting to Exhale (1995)</td>\n",
       "      <td>Comedy|Drama|Romance</td>\n",
       "    </tr>\n",
       "    <tr>\n",
       "      <th>4</th>\n",
       "      <td>5</td>\n",
       "      <td>Father of the Bride Part II (1995)</td>\n",
       "      <td>Comedy</td>\n",
       "    </tr>\n",
       "  </tbody>\n",
       "</table>\n",
       "</div>"
      ],
      "text/plain": [
       "   movieId                               title  \\\n",
       "0        1                    Toy Story (1995)   \n",
       "1        2                      Jumanji (1995)   \n",
       "2        3             Grumpier Old Men (1995)   \n",
       "3        4            Waiting to Exhale (1995)   \n",
       "4        5  Father of the Bride Part II (1995)   \n",
       "\n",
       "                                        genres  \n",
       "0  Adventure|Animation|Children|Comedy|Fantasy  \n",
       "1                   Adventure|Children|Fantasy  \n",
       "2                               Comedy|Romance  \n",
       "3                         Comedy|Drama|Romance  \n",
       "4                                       Comedy  "
      ]
     },
     "execution_count": 8,
     "metadata": {},
     "output_type": "execute_result"
    }
   ],
   "source": [
    "movie.head()"
   ]
  },
  {
   "cell_type": "code",
   "execution_count": 9,
   "id": "9899a707",
   "metadata": {},
   "outputs": [
    {
     "data": {
      "text/html": [
       "<div>\n",
       "<style scoped>\n",
       "    .dataframe tbody tr th:only-of-type {\n",
       "        vertical-align: middle;\n",
       "    }\n",
       "\n",
       "    .dataframe tbody tr th {\n",
       "        vertical-align: top;\n",
       "    }\n",
       "\n",
       "    .dataframe thead th {\n",
       "        text-align: right;\n",
       "    }\n",
       "</style>\n",
       "<table border=\"1\" class=\"dataframe\">\n",
       "  <thead>\n",
       "    <tr style=\"text-align: right;\">\n",
       "      <th></th>\n",
       "      <th>userId</th>\n",
       "      <th>movieId</th>\n",
       "      <th>rating</th>\n",
       "      <th>timestamp</th>\n",
       "    </tr>\n",
       "  </thead>\n",
       "  <tbody>\n",
       "    <tr>\n",
       "      <th>0</th>\n",
       "      <td>1</td>\n",
       "      <td>16</td>\n",
       "      <td>4.0</td>\n",
       "      <td>1217897793</td>\n",
       "    </tr>\n",
       "    <tr>\n",
       "      <th>1</th>\n",
       "      <td>1</td>\n",
       "      <td>24</td>\n",
       "      <td>1.5</td>\n",
       "      <td>1217895807</td>\n",
       "    </tr>\n",
       "    <tr>\n",
       "      <th>2</th>\n",
       "      <td>1</td>\n",
       "      <td>32</td>\n",
       "      <td>4.0</td>\n",
       "      <td>1217896246</td>\n",
       "    </tr>\n",
       "    <tr>\n",
       "      <th>3</th>\n",
       "      <td>1</td>\n",
       "      <td>47</td>\n",
       "      <td>4.0</td>\n",
       "      <td>1217896556</td>\n",
       "    </tr>\n",
       "    <tr>\n",
       "      <th>4</th>\n",
       "      <td>1</td>\n",
       "      <td>50</td>\n",
       "      <td>4.0</td>\n",
       "      <td>1217896523</td>\n",
       "    </tr>\n",
       "  </tbody>\n",
       "</table>\n",
       "</div>"
      ],
      "text/plain": [
       "   userId  movieId  rating   timestamp\n",
       "0       1       16     4.0  1217897793\n",
       "1       1       24     1.5  1217895807\n",
       "2       1       32     4.0  1217896246\n",
       "3       1       47     4.0  1217896556\n",
       "4       1       50     4.0  1217896523"
      ]
     },
     "execution_count": 9,
     "metadata": {},
     "output_type": "execute_result"
    }
   ],
   "source": [
    "rating.head()"
   ]
  },
  {
   "cell_type": "code",
   "execution_count": 12,
   "id": "856e5207",
   "metadata": {},
   "outputs": [],
   "source": [
    "df=pd.merge(movie,rating,on=\"movieId\")"
   ]
  },
  {
   "cell_type": "code",
   "execution_count": 13,
   "id": "345601bd",
   "metadata": {},
   "outputs": [
    {
     "data": {
      "text/html": [
       "<div>\n",
       "<style scoped>\n",
       "    .dataframe tbody tr th:only-of-type {\n",
       "        vertical-align: middle;\n",
       "    }\n",
       "\n",
       "    .dataframe tbody tr th {\n",
       "        vertical-align: top;\n",
       "    }\n",
       "\n",
       "    .dataframe thead th {\n",
       "        text-align: right;\n",
       "    }\n",
       "</style>\n",
       "<table border=\"1\" class=\"dataframe\">\n",
       "  <thead>\n",
       "    <tr style=\"text-align: right;\">\n",
       "      <th></th>\n",
       "      <th>movieId</th>\n",
       "      <th>title</th>\n",
       "      <th>genres</th>\n",
       "      <th>userId</th>\n",
       "      <th>rating</th>\n",
       "      <th>timestamp</th>\n",
       "    </tr>\n",
       "  </thead>\n",
       "  <tbody>\n",
       "    <tr>\n",
       "      <th>0</th>\n",
       "      <td>1</td>\n",
       "      <td>Toy Story (1995)</td>\n",
       "      <td>Adventure|Animation|Children|Comedy|Fantasy</td>\n",
       "      <td>2</td>\n",
       "      <td>5.0</td>\n",
       "      <td>859046895</td>\n",
       "    </tr>\n",
       "    <tr>\n",
       "      <th>1</th>\n",
       "      <td>1</td>\n",
       "      <td>Toy Story (1995)</td>\n",
       "      <td>Adventure|Animation|Children|Comedy|Fantasy</td>\n",
       "      <td>5</td>\n",
       "      <td>4.0</td>\n",
       "      <td>1303501039</td>\n",
       "    </tr>\n",
       "    <tr>\n",
       "      <th>2</th>\n",
       "      <td>1</td>\n",
       "      <td>Toy Story (1995)</td>\n",
       "      <td>Adventure|Animation|Children|Comedy|Fantasy</td>\n",
       "      <td>8</td>\n",
       "      <td>5.0</td>\n",
       "      <td>858610933</td>\n",
       "    </tr>\n",
       "    <tr>\n",
       "      <th>3</th>\n",
       "      <td>1</td>\n",
       "      <td>Toy Story (1995)</td>\n",
       "      <td>Adventure|Animation|Children|Comedy|Fantasy</td>\n",
       "      <td>11</td>\n",
       "      <td>4.0</td>\n",
       "      <td>850815810</td>\n",
       "    </tr>\n",
       "    <tr>\n",
       "      <th>4</th>\n",
       "      <td>1</td>\n",
       "      <td>Toy Story (1995)</td>\n",
       "      <td>Adventure|Animation|Children|Comedy|Fantasy</td>\n",
       "      <td>14</td>\n",
       "      <td>4.0</td>\n",
       "      <td>851766286</td>\n",
       "    </tr>\n",
       "  </tbody>\n",
       "</table>\n",
       "</div>"
      ],
      "text/plain": [
       "   movieId             title                                       genres  \\\n",
       "0        1  Toy Story (1995)  Adventure|Animation|Children|Comedy|Fantasy   \n",
       "1        1  Toy Story (1995)  Adventure|Animation|Children|Comedy|Fantasy   \n",
       "2        1  Toy Story (1995)  Adventure|Animation|Children|Comedy|Fantasy   \n",
       "3        1  Toy Story (1995)  Adventure|Animation|Children|Comedy|Fantasy   \n",
       "4        1  Toy Story (1995)  Adventure|Animation|Children|Comedy|Fantasy   \n",
       "\n",
       "   userId  rating   timestamp  \n",
       "0       2     5.0   859046895  \n",
       "1       5     4.0  1303501039  \n",
       "2       8     5.0   858610933  \n",
       "3      11     4.0   850815810  \n",
       "4      14     4.0   851766286  "
      ]
     },
     "execution_count": 13,
     "metadata": {},
     "output_type": "execute_result"
    }
   ],
   "source": [
    "df.head()"
   ]
  },
  {
   "cell_type": "code",
   "execution_count": 15,
   "id": "7fbb67d4",
   "metadata": {},
   "outputs": [
    {
     "data": {
      "text/plain": [
       "title\n",
       "Saddest Music in the World, The (2003)    5.0\n",
       "Interstate 60 (2002)                      5.0\n",
       "Gunfighter, The (1950)                    5.0\n",
       "Heima (2007)                              5.0\n",
       "Limelight (1952)                          5.0\n",
       "Name: rating, dtype: float64"
      ]
     },
     "execution_count": 15,
     "metadata": {},
     "output_type": "execute_result"
    }
   ],
   "source": [
    "df.groupby(\"title\")[\"rating\"].mean().sort_values(ascending=False).head()"
   ]
  },
  {
   "cell_type": "markdown",
   "id": "41d0a59c",
   "metadata": {},
   "source": [
    "- The movies have now been sorted according to the ascending order of their ratings.\n",
    "\n",
    "- However, there is a problem. A movie can make it to the top of the above list even if only a single user has given it five stars. Therefore, the above stats can be misleading. Normally, a movie which is really a good one gets a higher rating by a large number of users."
   ]
  },
  {
   "cell_type": "markdown",
   "id": "5e7ab8cc",
   "metadata": {},
   "source": [
    "- Lets count number of user give rating to each movie"
   ]
  },
  {
   "cell_type": "code",
   "execution_count": 17,
   "id": "0bfea0d5",
   "metadata": {},
   "outputs": [
    {
     "data": {
      "text/plain": [
       "title\n",
       "Pulp Fiction (1994)                 325\n",
       "Forrest Gump (1994)                 311\n",
       "Shawshank Redemption, The (1994)    308\n",
       "Jurassic Park (1993)                294\n",
       "Silence of the Lambs, The (1991)    290\n",
       "Name: userId, dtype: int64"
      ]
     },
     "execution_count": 17,
     "metadata": {},
     "output_type": "execute_result"
    }
   ],
   "source": [
    "df.groupby(\"title\")[\"userId\"].count().sort_values(ascending=False).head()"
   ]
  },
  {
   "cell_type": "markdown",
   "id": "bcdf40d8",
   "metadata": {},
   "source": [
    "- Now, we can see some great movies at the top. The above list supports our point that good movies normally receive higher ratings. Now we know that both the average rating per movie and the number of ratings per movie are important attributes.\n",
    "\n",
    "- So, let's create a new dataframe that contains both of these attributes.\n",
    "\n",
    "- We will create a new dataframe called ratings_mean_count and first add the average rating of each movie to this dataframe as follows-"
   ]
  },
  {
   "cell_type": "code",
   "execution_count": 20,
   "id": "7878e4e5",
   "metadata": {},
   "outputs": [],
   "source": [
    "rating_mean_counts=pd.DataFrame()"
   ]
  },
  {
   "cell_type": "code",
   "execution_count": 21,
   "id": "ef075746",
   "metadata": {},
   "outputs": [],
   "source": [
    "rating_mean_counts[\"avg_rating\"]=df.groupby(\"title\")[\"rating\"].mean()"
   ]
  },
  {
   "cell_type": "code",
   "execution_count": 23,
   "id": "a7f49fbe",
   "metadata": {},
   "outputs": [],
   "source": [
    "rating_mean_counts[\"No.userId\"]=df.groupby(\"title\")[\"rating\"].count()"
   ]
  },
  {
   "cell_type": "code",
   "execution_count": 24,
   "id": "1da6baa8",
   "metadata": {},
   "outputs": [
    {
     "data": {
      "text/html": [
       "<div>\n",
       "<style scoped>\n",
       "    .dataframe tbody tr th:only-of-type {\n",
       "        vertical-align: middle;\n",
       "    }\n",
       "\n",
       "    .dataframe tbody tr th {\n",
       "        vertical-align: top;\n",
       "    }\n",
       "\n",
       "    .dataframe thead th {\n",
       "        text-align: right;\n",
       "    }\n",
       "</style>\n",
       "<table border=\"1\" class=\"dataframe\">\n",
       "  <thead>\n",
       "    <tr style=\"text-align: right;\">\n",
       "      <th></th>\n",
       "      <th>avg_rating</th>\n",
       "      <th>No.userId</th>\n",
       "    </tr>\n",
       "    <tr>\n",
       "      <th>title</th>\n",
       "      <th></th>\n",
       "      <th></th>\n",
       "    </tr>\n",
       "  </thead>\n",
       "  <tbody>\n",
       "    <tr>\n",
       "      <th>'71 (2014)</th>\n",
       "      <td>3.500000</td>\n",
       "      <td>1</td>\n",
       "    </tr>\n",
       "    <tr>\n",
       "      <th>'Hellboy': The Seeds of Creation (2004)</th>\n",
       "      <td>3.000000</td>\n",
       "      <td>1</td>\n",
       "    </tr>\n",
       "    <tr>\n",
       "      <th>'Round Midnight (1986)</th>\n",
       "      <td>2.500000</td>\n",
       "      <td>1</td>\n",
       "    </tr>\n",
       "    <tr>\n",
       "      <th>'Til There Was You (1997)</th>\n",
       "      <td>4.000000</td>\n",
       "      <td>3</td>\n",
       "    </tr>\n",
       "    <tr>\n",
       "      <th>'burbs, The (1989)</th>\n",
       "      <td>3.125000</td>\n",
       "      <td>20</td>\n",
       "    </tr>\n",
       "    <tr>\n",
       "      <th>...</th>\n",
       "      <td>...</td>\n",
       "      <td>...</td>\n",
       "    </tr>\n",
       "    <tr>\n",
       "      <th>loudQUIETloud: A Film About the Pixies (2006)</th>\n",
       "      <td>4.500000</td>\n",
       "      <td>1</td>\n",
       "    </tr>\n",
       "    <tr>\n",
       "      <th>xXx (2002)</th>\n",
       "      <td>2.958333</td>\n",
       "      <td>24</td>\n",
       "    </tr>\n",
       "    <tr>\n",
       "      <th>xXx: State of the Union (2005)</th>\n",
       "      <td>2.071429</td>\n",
       "      <td>7</td>\n",
       "    </tr>\n",
       "    <tr>\n",
       "      <th>¡Three Amigos! (1986)</th>\n",
       "      <td>3.012500</td>\n",
       "      <td>40</td>\n",
       "    </tr>\n",
       "    <tr>\n",
       "      <th>À nous la liberté (Freedom for Us) (1931)</th>\n",
       "      <td>3.000000</td>\n",
       "      <td>1</td>\n",
       "    </tr>\n",
       "  </tbody>\n",
       "</table>\n",
       "<p>10323 rows × 2 columns</p>\n",
       "</div>"
      ],
      "text/plain": [
       "                                               avg_rating  No.userId\n",
       "title                                                               \n",
       "'71 (2014)                                       3.500000          1\n",
       "'Hellboy': The Seeds of Creation (2004)          3.000000          1\n",
       "'Round Midnight (1986)                           2.500000          1\n",
       "'Til There Was You (1997)                        4.000000          3\n",
       "'burbs, The (1989)                               3.125000         20\n",
       "...                                                   ...        ...\n",
       "loudQUIETloud: A Film About the Pixies (2006)    4.500000          1\n",
       "xXx (2002)                                       2.958333         24\n",
       "xXx: State of the Union (2005)                   2.071429          7\n",
       "¡Three Amigos! (1986)                            3.012500         40\n",
       "À nous la liberté (Freedom for Us) (1931)        3.000000          1\n",
       "\n",
       "[10323 rows x 2 columns]"
      ]
     },
     "execution_count": 24,
     "metadata": {},
     "output_type": "execute_result"
    }
   ],
   "source": [
    "rating_mean_counts"
   ]
  },
  {
   "cell_type": "markdown",
   "id": "aab259bc",
   "metadata": {},
   "source": [
    "We can see movie title, along with the average rating and number of ratings for the movies."
   ]
  },
  {
   "cell_type": "markdown",
   "id": "e82496d5",
   "metadata": {},
   "source": [
    "Now, let's plot a histogram for the number of ratings represented by the rating_counts column in the above dataframe"
   ]
  },
  {
   "cell_type": "code",
   "execution_count": 25,
   "id": "40662c88",
   "metadata": {},
   "outputs": [
    {
     "data": {
      "text/plain": [
       "<Axes: >"
      ]
     },
     "execution_count": 25,
     "metadata": {},
     "output_type": "execute_result"
    },
    {
     "data": {
      "image/png": "[encoded data removed]",
      "text/plain": [
       "<Figure size 1000x800 with 1 Axes>"
      ]
     },
     "metadata": {},
     "output_type": "display_data"
    }
   ],
   "source": [
    "plt.figure(figsize=(10,8))\n",
    "plt.rcParams['patch.force_edgecolor'] = True\n",
    "rating_mean_counts['No.userId'].hist(bins=50)"
   ]
  },
  {
   "cell_type": "markdown",
   "id": "67b617f9",
   "metadata": {},
   "source": [
    "From the above plot, we can see that most of the movies have received less than 50 ratings and there are no movies having more than 100 ratings."
   ]
  },
  {
   "cell_type": "markdown",
   "id": "0addf4dc",
   "metadata": {},
   "source": [
    "Now, we will plot a histogram for average ratings"
   ]
  },
  {
   "cell_type": "code",
   "execution_count": 28,
   "id": "59d32386",
   "metadata": {},
   "outputs": [
    {
     "data": {
      "text/plain": [
       "<Axes: >"
      ]
     },
     "execution_count": 28,
     "metadata": {},
     "output_type": "execute_result"
    },
    {
     "data": {
      "image/png": "[encoded data removed]",
      "text/plain": [
       "<Figure size 1000x800 with 1 Axes>"
      ]
     },
     "metadata": {},
     "output_type": "display_data"
    }
   ],
   "source": [
    "plt.figure(figsize=(10,8))\n",
    "plt.rcParams['patch.force_edgecolor'] = True\n",
    "rating_mean_counts['avg_rating'].hist(bins=50)"
   ]
  },
  {
   "cell_type": "markdown",
   "id": "013c8ab2",
   "metadata": {},
   "source": [
    "- We can see that the integer values have taller bars than the floating values since most of the users assign rating as integer value i.e. 1, 2, 3, 4 or 5.\n",
    "\n",
    "- Furthermore, it is evident that the data has a weak normal distribution with the mean of around 3.5. There are a few outliers in the data as well.\n",
    "\n",
    "- Movies with a higher number of ratings usually have a high average rating as well since a good movie is normally well-known and a well-known movie is watched by a large number of people, and thus usually has a higher rating.\n",
    "\n",
    "- Let's see if this is also the case with the movies in our dataset. We will plot average ratings against the number of ratings."
   ]
  },
  {
   "cell_type": "code",
   "execution_count": 32,
   "id": "3c759f0f",
   "metadata": {},
   "outputs": [
    {
     "data": {
      "text/plain": [
       "<seaborn.axisgrid.JointGrid at 0x1ce7e8bd750>"
      ]
     },
     "execution_count": 32,
     "metadata": {},
     "output_type": "execute_result"
    },
    {
     "data": {
      "text/plain": [
       "<Figure size 1000x800 with 0 Axes>"
      ]
     },
     "metadata": {},
     "output_type": "display_data"
    },
    {
     "data": {
      "image/png": "[encoded data removed]",
      "text/plain": [
       "<Figure size 600x600 with 3 Axes>"
      ]
     },
     "metadata": {},
     "output_type": "display_data"
    }
   ],
   "source": [
    "\n",
    "plt.figure(figsize=(10,8))\n",
    "plt.rcParams['patch.force_edgecolor'] = True\n",
    "sns.jointplot(x='avg_rating', y='No.userId', data=rating_mean_counts, alpha=0.4)"
   ]
  },
  {
   "cell_type": "markdown",
   "id": "8f7edbb5",
   "metadata": {},
   "source": [
    "The graph shows that, in general, movies with higher average ratings actually have more number of ratings, compared with movies that have lower average ratings."
   ]
  },
  {
   "cell_type": "markdown",
   "id": "47f9d330",
   "metadata": {},
   "source": [
    "##### Finding Similarities Between Movies"
   ]
  },
  {
   "cell_type": "markdown",
   "id": "d299b204",
   "metadata": {},
   "source": [
    "- Now, it is the time to find the similarity between the movies.\n",
    "\n",
    "- We will use the correlation between the ratings of a movie as the similarity metric.\n",
    "\n",
    "- To find the correlation between the ratings of the movie, we need to create a matrix where each column is a movie name and each row contains the rating assigned by a specific user to that movie.\n",
    "\n",
    "- This matrix will have a lot of null values since every movie is not rated by every user."
   ]
  },
  {
   "cell_type": "code",
   "execution_count": 34,
   "id": "7df0772f",
   "metadata": {},
   "outputs": [],
   "source": [
    "user_movie_rating=df.pivot_table(index=\"userId\",columns=\"title\",values=\"rating\")"
   ]
  },
  {
   "cell_type": "markdown",
   "id": "3f3d4fdc",
   "metadata": {},
   "source": [
    "- We know that each column contains all the user ratings for a particular movie.\n",
    "\n",
    "- Now, let's find all the user ratings for the movie Forrest Gump (1994) and find the movies similar to it.\n",
    "\n",
    "- We chose this movie since it has the highest number of ratings and we want to find the correlation between movies that have a higher number of ratings.- "
   ]
  },
  {
   "cell_type": "markdown",
   "id": "0800a5a2",
   "metadata": {},
   "source": [
    "We will find the user ratings for Forrest Gump (1994) as follows-"
   ]
  },
  {
   "cell_type": "code",
   "execution_count": 35,
   "id": "813c1378",
   "metadata": {},
   "outputs": [
    {
     "data": {
      "text/plain": [
       "userId\n",
       "1    3.0\n",
       "2    NaN\n",
       "3    3.0\n",
       "4    NaN\n",
       "5    NaN\n",
       "Name: Forrest Gump (1994), dtype: float64"
      ]
     },
     "execution_count": 35,
     "metadata": {},
     "output_type": "execute_result"
    }
   ],
   "source": [
    "forrest_gump_ratings = user_movie_rating['Forrest Gump (1994)']\n",
    "\n",
    "forrest_gump_ratings.head()\n"
   ]
  },
  {
   "cell_type": "markdown",
   "id": "19e78e6a",
   "metadata": {},
   "source": [
    "We can find the correlation between the user ratings for the Forest Gump (1994) and all the other movies using corrwith() function as shown below:"
   ]
  },
  {
   "cell_type": "code",
   "execution_count": 37,
   "id": "8190e2ef",
   "metadata": {},
   "outputs": [],
   "source": [
    "movies_like_forest_gump =user_movie_rating.corrwith(forrest_gump_ratings)"
   ]
  },
  {
   "cell_type": "code",
   "execution_count": 38,
   "id": "35f91cd7",
   "metadata": {},
   "outputs": [
    {
     "data": {
      "text/html": [
       "<div>\n",
       "<style scoped>\n",
       "    .dataframe tbody tr th:only-of-type {\n",
       "        vertical-align: middle;\n",
       "    }\n",
       "\n",
       "    .dataframe tbody tr th {\n",
       "        vertical-align: top;\n",
       "    }\n",
       "\n",
       "    .dataframe thead th {\n",
       "        text-align: right;\n",
       "    }\n",
       "</style>\n",
       "<table border=\"1\" class=\"dataframe\">\n",
       "  <thead>\n",
       "    <tr style=\"text-align: right;\">\n",
       "      <th></th>\n",
       "      <th>Correlation</th>\n",
       "    </tr>\n",
       "    <tr>\n",
       "      <th>title</th>\n",
       "      <th></th>\n",
       "    </tr>\n",
       "  </thead>\n",
       "  <tbody>\n",
       "    <tr>\n",
       "      <th>'burbs, The (1989)</th>\n",
       "      <td>0.056266</td>\n",
       "    </tr>\n",
       "    <tr>\n",
       "      <th>(500) Days of Summer (2009)</th>\n",
       "      <td>0.144325</td>\n",
       "    </tr>\n",
       "    <tr>\n",
       "      <th>*batteries not included (1987)</th>\n",
       "      <td>0.000000</td>\n",
       "    </tr>\n",
       "    <tr>\n",
       "      <th>...And Justice for All (1979)</th>\n",
       "      <td>0.089924</td>\n",
       "    </tr>\n",
       "    <tr>\n",
       "      <th>10 (1979)</th>\n",
       "      <td>0.693375</td>\n",
       "    </tr>\n",
       "  </tbody>\n",
       "</table>\n",
       "</div>"
      ],
      "text/plain": [
       "                                Correlation\n",
       "title                                      \n",
       "'burbs, The (1989)                 0.056266\n",
       "(500) Days of Summer (2009)        0.144325\n",
       "*batteries not included (1987)     0.000000\n",
       "...And Justice for All (1979)      0.089924\n",
       "10 (1979)                          0.693375"
      ]
     },
     "execution_count": 38,
     "metadata": {},
     "output_type": "execute_result"
    }
   ],
   "source": [
    "corr_forrest_gump = pd.DataFrame(movies_like_forest_gump, columns=['Correlation'])\n",
    "corr_forrest_gump.dropna(inplace=True)\n",
    "corr_forrest_gump.head()"
   ]
  },
  {
   "cell_type": "code",
   "execution_count": 43,
   "id": "e30a1fe5",
   "metadata": {},
   "outputs": [
    {
     "data": {
      "text/html": [
       "<div>\n",
       "<style scoped>\n",
       "    .dataframe tbody tr th:only-of-type {\n",
       "        vertical-align: middle;\n",
       "    }\n",
       "\n",
       "    .dataframe tbody tr th {\n",
       "        vertical-align: top;\n",
       "    }\n",
       "\n",
       "    .dataframe thead th {\n",
       "        text-align: right;\n",
       "    }\n",
       "</style>\n",
       "<table border=\"1\" class=\"dataframe\">\n",
       "  <thead>\n",
       "    <tr style=\"text-align: right;\">\n",
       "      <th></th>\n",
       "      <th>Correlation</th>\n",
       "    </tr>\n",
       "    <tr>\n",
       "      <th>title</th>\n",
       "      <th></th>\n",
       "    </tr>\n",
       "  </thead>\n",
       "  <tbody>\n",
       "    <tr>\n",
       "      <th>Martian Child (2007)</th>\n",
       "      <td>1.0</td>\n",
       "    </tr>\n",
       "    <tr>\n",
       "      <th>Save the Tiger (1973)</th>\n",
       "      <td>1.0</td>\n",
       "    </tr>\n",
       "    <tr>\n",
       "      <th>Underworld (1996)</th>\n",
       "      <td>1.0</td>\n",
       "    </tr>\n",
       "    <tr>\n",
       "      <th>Shortbus (2006)</th>\n",
       "      <td>1.0</td>\n",
       "    </tr>\n",
       "    <tr>\n",
       "      <th>Court Jester, The (1956)</th>\n",
       "      <td>1.0</td>\n",
       "    </tr>\n",
       "    <tr>\n",
       "      <th>Bottle Shock (2008)</th>\n",
       "      <td>1.0</td>\n",
       "    </tr>\n",
       "    <tr>\n",
       "      <th>Anna Karenina (2012)</th>\n",
       "      <td>1.0</td>\n",
       "    </tr>\n",
       "    <tr>\n",
       "      <th>Elegy (2008)</th>\n",
       "      <td>1.0</td>\n",
       "    </tr>\n",
       "    <tr>\n",
       "      <th>Half Light (2006)</th>\n",
       "      <td>1.0</td>\n",
       "    </tr>\n",
       "    <tr>\n",
       "      <th>Unvanquished, The (Aparajito) (1957)</th>\n",
       "      <td>1.0</td>\n",
       "    </tr>\n",
       "    <tr>\n",
       "      <th>First Kid (1996)</th>\n",
       "      <td>1.0</td>\n",
       "    </tr>\n",
       "    <tr>\n",
       "      <th>Stage Door (1937)</th>\n",
       "      <td>1.0</td>\n",
       "    </tr>\n",
       "    <tr>\n",
       "      <th>Upstream Color (2013)</th>\n",
       "      <td>1.0</td>\n",
       "    </tr>\n",
       "    <tr>\n",
       "      <th>Revolutionary Road (2008)</th>\n",
       "      <td>1.0</td>\n",
       "    </tr>\n",
       "    <tr>\n",
       "      <th>Once a Thief (Zong heng si hai) (1991)</th>\n",
       "      <td>1.0</td>\n",
       "    </tr>\n",
       "  </tbody>\n",
       "</table>\n",
       "</div>"
      ],
      "text/plain": [
       "                                        Correlation\n",
       "title                                              \n",
       "Martian Child (2007)                            1.0\n",
       "Save the Tiger (1973)                           1.0\n",
       "Underworld (1996)                               1.0\n",
       "Shortbus (2006)                                 1.0\n",
       "Court Jester, The (1956)                        1.0\n",
       "Bottle Shock (2008)                             1.0\n",
       "Anna Karenina (2012)                            1.0\n",
       "Elegy (2008)                                    1.0\n",
       "Half Light (2006)                               1.0\n",
       "Unvanquished, The (Aparajito) (1957)            1.0\n",
       "First Kid (1996)                                1.0\n",
       "Stage Door (1937)                               1.0\n",
       "Upstream Color (2013)                           1.0\n",
       "Revolutionary Road (2008)                       1.0\n",
       "Once a Thief (Zong heng si hai) (1991)          1.0"
      ]
     },
     "execution_count": 43,
     "metadata": {},
     "output_type": "execute_result"
    }
   ],
   "source": [
    "corr_forrest_gump.sort_values(\"Correlation\",ascending=False).head(15)"
   ]
  },
  {
   "cell_type": "markdown",
   "id": "4d657feb",
   "metadata": {},
   "source": [
    "From the above output, we can see that the movies that have high correlation with Forrest Gump (1994) are not very well known.\n",
    "\n",
    "This shows that correlation alone is not a good metric for similarity because there can be a user who watched 'Forest Gump (1994) and only one other movie and rated both of them as 5."
   ]
  },
  {
   "cell_type": "markdown",
   "id": "f160fa19",
   "metadata": {},
   "source": [
    "A solution to this problem is to retrieve only those correlated movies that have at least more than 50 ratings.\n",
    "\n",
    "To do so, we will add the rating_counts column from the rating_mean_count dataframe to our corr_forrest_gump dataframe."
   ]
  },
  {
   "cell_type": "code",
   "execution_count": 45,
   "id": "744ee1eb",
   "metadata": {},
   "outputs": [],
   "source": [
    "corr_forrest_gump[\"rating_count\"]=rating_mean_counts[\"No.userId\"]"
   ]
  },
  {
   "cell_type": "code",
   "execution_count": 46,
   "id": "8f9049fc",
   "metadata": {},
   "outputs": [
    {
     "data": {
      "text/html": [
       "<div>\n",
       "<style scoped>\n",
       "    .dataframe tbody tr th:only-of-type {\n",
       "        vertical-align: middle;\n",
       "    }\n",
       "\n",
       "    .dataframe tbody tr th {\n",
       "        vertical-align: top;\n",
       "    }\n",
       "\n",
       "    .dataframe thead th {\n",
       "        text-align: right;\n",
       "    }\n",
       "</style>\n",
       "<table border=\"1\" class=\"dataframe\">\n",
       "  <thead>\n",
       "    <tr style=\"text-align: right;\">\n",
       "      <th></th>\n",
       "      <th>Correlation</th>\n",
       "      <th>rating_count</th>\n",
       "    </tr>\n",
       "    <tr>\n",
       "      <th>title</th>\n",
       "      <th></th>\n",
       "      <th></th>\n",
       "    </tr>\n",
       "  </thead>\n",
       "  <tbody>\n",
       "    <tr>\n",
       "      <th>'burbs, The (1989)</th>\n",
       "      <td>0.056266</td>\n",
       "      <td>20</td>\n",
       "    </tr>\n",
       "    <tr>\n",
       "      <th>(500) Days of Summer (2009)</th>\n",
       "      <td>0.144325</td>\n",
       "      <td>37</td>\n",
       "    </tr>\n",
       "    <tr>\n",
       "      <th>*batteries not included (1987)</th>\n",
       "      <td>0.000000</td>\n",
       "      <td>11</td>\n",
       "    </tr>\n",
       "    <tr>\n",
       "      <th>...And Justice for All (1979)</th>\n",
       "      <td>0.089924</td>\n",
       "      <td>10</td>\n",
       "    </tr>\n",
       "    <tr>\n",
       "      <th>10 (1979)</th>\n",
       "      <td>0.693375</td>\n",
       "      <td>3</td>\n",
       "    </tr>\n",
       "    <tr>\n",
       "      <th>...</th>\n",
       "      <td>...</td>\n",
       "      <td>...</td>\n",
       "    </tr>\n",
       "    <tr>\n",
       "      <th>[REC]² (2009)</th>\n",
       "      <td>0.837708</td>\n",
       "      <td>4</td>\n",
       "    </tr>\n",
       "    <tr>\n",
       "      <th>eXistenZ (1999)</th>\n",
       "      <td>0.025067</td>\n",
       "      <td>28</td>\n",
       "    </tr>\n",
       "    <tr>\n",
       "      <th>xXx (2002)</th>\n",
       "      <td>0.096972</td>\n",
       "      <td>24</td>\n",
       "    </tr>\n",
       "    <tr>\n",
       "      <th>xXx: State of the Union (2005)</th>\n",
       "      <td>0.157243</td>\n",
       "      <td>7</td>\n",
       "    </tr>\n",
       "    <tr>\n",
       "      <th>¡Three Amigos! (1986)</th>\n",
       "      <td>0.672447</td>\n",
       "      <td>40</td>\n",
       "    </tr>\n",
       "  </tbody>\n",
       "</table>\n",
       "<p>5463 rows × 2 columns</p>\n",
       "</div>"
      ],
      "text/plain": [
       "                                Correlation  rating_count\n",
       "title                                                    \n",
       "'burbs, The (1989)                 0.056266            20\n",
       "(500) Days of Summer (2009)        0.144325            37\n",
       "*batteries not included (1987)     0.000000            11\n",
       "...And Justice for All (1979)      0.089924            10\n",
       "10 (1979)                          0.693375             3\n",
       "...                                     ...           ...\n",
       "[REC]² (2009)                      0.837708             4\n",
       "eXistenZ (1999)                    0.025067            28\n",
       "xXx (2002)                         0.096972            24\n",
       "xXx: State of the Union (2005)     0.157243             7\n",
       "¡Three Amigos! (1986)              0.672447            40\n",
       "\n",
       "[5463 rows x 2 columns]"
      ]
     },
     "execution_count": 46,
     "metadata": {},
     "output_type": "execute_result"
    }
   ],
   "source": [
    "corr_forrest_gump"
   ]
  },
  {
   "cell_type": "markdown",
   "id": "ddeef467",
   "metadata": {},
   "source": [
    "We can see that the movie 10, which has the highest correlation has only three ratings. This means that only three users gave same ratings to Forest Gump (1994).\n",
    "\n",
    "However, we can deduce that a movie cannot be declared similar to the another movie based on just 3 ratings. This is why we added rating_counts column.\n",
    "\n",
    "Now, let's now filter movies correlated to Forest Gump (1994), that have more than 50 ratings.\n",
    "\n",
    "The following code snippet will do that-"
   ]
  },
  {
   "cell_type": "code",
   "execution_count": 51,
   "id": "c1d1bcab",
   "metadata": {},
   "outputs": [
    {
     "data": {
      "text/html": [
       "<div>\n",
       "<style scoped>\n",
       "    .dataframe tbody tr th:only-of-type {\n",
       "        vertical-align: middle;\n",
       "    }\n",
       "\n",
       "    .dataframe tbody tr th {\n",
       "        vertical-align: top;\n",
       "    }\n",
       "\n",
       "    .dataframe thead th {\n",
       "        text-align: right;\n",
       "    }\n",
       "</style>\n",
       "<table border=\"1\" class=\"dataframe\">\n",
       "  <thead>\n",
       "    <tr style=\"text-align: right;\">\n",
       "      <th></th>\n",
       "      <th>Correlation</th>\n",
       "      <th>rating_count</th>\n",
       "    </tr>\n",
       "    <tr>\n",
       "      <th>title</th>\n",
       "      <th></th>\n",
       "      <th></th>\n",
       "    </tr>\n",
       "  </thead>\n",
       "  <tbody>\n",
       "    <tr>\n",
       "      <th>Forrest Gump (1994)</th>\n",
       "      <td>1.000000</td>\n",
       "      <td>311</td>\n",
       "    </tr>\n",
       "    <tr>\n",
       "      <th>Happy Gilmore (1996)</th>\n",
       "      <td>0.715602</td>\n",
       "      <td>79</td>\n",
       "    </tr>\n",
       "    <tr>\n",
       "      <th>12 Angry Men (1957)</th>\n",
       "      <td>0.545139</td>\n",
       "      <td>63</td>\n",
       "    </tr>\n",
       "    <tr>\n",
       "      <th>As Good as It Gets (1997)</th>\n",
       "      <td>0.521448</td>\n",
       "      <td>98</td>\n",
       "    </tr>\n",
       "    <tr>\n",
       "      <th>First Knight (1995)</th>\n",
       "      <td>0.520438</td>\n",
       "      <td>52</td>\n",
       "    </tr>\n",
       "  </tbody>\n",
       "</table>\n",
       "</div>"
      ],
      "text/plain": [
       "                           Correlation  rating_count\n",
       "title                                               \n",
       "Forrest Gump (1994)           1.000000           311\n",
       "Happy Gilmore (1996)          0.715602            79\n",
       "12 Angry Men (1957)           0.545139            63\n",
       "As Good as It Gets (1997)     0.521448            98\n",
       "First Knight (1995)           0.520438            52"
      ]
     },
     "execution_count": 51,
     "metadata": {},
     "output_type": "execute_result"
    }
   ],
   "source": [
    "corr_forrest_gump[corr_forrest_gump[\"rating_count\"]>50].sort_values(\"Correlation\",ascending=False).head()"
   ]
  },
  {
   "cell_type": "markdown",
   "id": "ffe6723c",
   "metadata": {},
   "source": [
    "Now, we can see from the above output the movies that are highly correlated with Forrest Gump (1994).\n",
    "\n",
    "The movies in the list are some of the most famous movies Hollywood movies, and since Forest Gump (1994) is also a very famous movie, there is a high chance that these movies are highly correlated."
   ]
  },
  {
   "cell_type": "code",
   "execution_count": null,
   "id": "6f79f09b",
   "metadata": {},
   "outputs": [],
   "source": []
  }
 ],
 "metadata": {
  "kernelspec": {
   "display_name": "Python 3 (ipykernel)",
   "language": "python",
   "name": "python3"
  },
  "language_info": {
   "codemirror_mode": {
    "name": "ipython",
    "version": 3
   },
   "file_extension": ".py",
   "mimetype": "text/x-python",
   "name": "python",
   "nbconvert_exporter": "python",
   "pygments_lexer": "ipython3",
   "version": "3.11.5"
  }
 },
 "nbformat": 4,
 "nbformat_minor": 5
}
