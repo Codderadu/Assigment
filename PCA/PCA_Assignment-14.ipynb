{
 "cells": [
  {
   "cell_type": "markdown",
   "id": "d622a52c",
   "metadata": {},
   "source": [
    "### 1. Write Steps Involved in PCA."
   ]
  },
  {
   "cell_type": "markdown",
   "id": "48e2be31",
   "metadata": {},
   "source": [
    "##### STEP 1: STANDARDIZATION\n",
    "The aim of this step is to standardize the range of the continuous initial variables so that each one of them contributes equally to the analysis.\n",
    "\n",
    "More specifically, the reason why it is critical to perform standardization prior to PCA, is that the latter is quite sensitive regarding the variances of the initial variables. That is, if there are large differences between the ranges of initial variables, those variables with larger ranges will dominate over those with small ranges (for example, a variable that ranges between 0 and 100 will dominate over a variable that ranges between 0 and 1), which will lead to biased results. So, transforming the data to comparable scales can prevent this problem."
   ]
  },
  {
   "cell_type": "markdown",
   "id": "db5604c8",
   "metadata": {},
   "source": [
    "#####  STEP 2: COVARIANCE MATRIX COMPUTATION\n",
    "The aim of this step is to understand how the variables of the input data set are varying from the mean with respect to each other, or in other words, to see if there is any relationship between them. Because sometimes, variables are highly correlated in such a way that they contain redundant information. So, in order to identify these correlations, we compute the covariance matrix."
   ]
  },
  {
   "cell_type": "markdown",
   "id": "76203026",
   "metadata": {},
   "source": [
    "###### STEP 3: COMPUTE THE EIGENVECTORS AND EIGENVALUES OF THE COVARIANCE MATRIX TO IDENTIFY THE PRINCIPAL COMPONENTS\n",
    "Eigenvectors and eigenvalues are the linear algebra concepts that we need to compute from the covariance matrix in order to determine the principal components of the data. \n",
    "\n",
    "What you first need to know about eigenvectors and eigenvalues is that they always come in pairs, so that every eigenvector has an eigenvalue. Also, their number is equal to the number of dimensions of the data. For example, for a 3-dimensional data set, there are 3 variables, therefore there are 3 eigenvectors with 3 corresponding eigenvalues.\n",
    "\n",
    "It is eigenvectors and eigenvalues who are behind all the magic of principal components because the eigenvectors of the Covariance matrix are actually the directions of the axes where there is the most variance (most information) and that we call Principal Components. And eigenvalues are simply the coefficients attached to eigenvectors, which give the amount of variance carried in each Principal Component.\n",
    "\n",
    "By ranking your eigenvectors in order of their eigenvalues, highest to lowest, you get the principal components in order of significance."
   ]
  },
  {
   "cell_type": "markdown",
   "id": "f2afd286",
   "metadata": {},
   "source": [
    "##### STEP 4: CREATE A FEATURE VECTOR\n",
    "As we saw in the previous step, computing the eigenvectors and ordering them by their eigenvalues in descending order, allow us to find the principal components in order of significance. In this step, what we do is, to choose whether to keep all these components or discard those of lesser significance (of low eigenvalues), and form with the remaining ones a matrix of vectors that we call Feature vector.\n",
    "\n",
    "So, the feature vector is simply a matrix that has as columns the eigenvectors of the components that we decide to keep. This makes it the first step towards dimensionality reduction, because if we choose to keep only p eigenvectors (components) out of n, the final data set will have only p dimensions."
   ]
  },
  {
   "cell_type": "markdown",
   "id": "a238ebda",
   "metadata": {},
   "source": [
    "###### STEP 5: RECAST THE DATA ALONG THE PRINCIPAL COMPONENTS AXES\n",
    "In the previous steps, apart from standardization, you do not make any changes on the data, you just select the principal components and form the feature vector, but the input data set remains always in terms of the original axes (i.e, in terms of the initial variables).\n",
    "\n",
    "In this step, which is the last one, the aim is to use the feature vector formed using the eigenvectors of the covariance matrix, to reorient the data from the original axes to the ones represented by the principal components (hence the name Principal Components Analysis). This can be done by multiplying the transpose of the original data set by the transpose of the feature vector."
   ]
  },
  {
   "cell_type": "markdown",
   "id": "73670a33",
   "metadata": {},
   "source": [
    "### 2. Perform dimensionality reduction using PCA on the US Arrests dataset (enclosed herewith). What variance can be explained by PC1 & PC2?\n"
   ]
  },
  {
   "cell_type": "code",
   "execution_count": 49,
   "id": "e6bc1999",
   "metadata": {},
   "outputs": [],
   "source": [
    "import numpy as np\n",
    "import pandas as pd\n",
    "import matplotlib.pyplot as plt\n",
    "import seaborn as sns\n",
    "import warnings\n",
    "warnings.filterwarnings(\"ignore\")"
   ]
  },
  {
   "cell_type": "code",
   "execution_count": 4,
   "id": "de2f0c1b",
   "metadata": {},
   "outputs": [],
   "source": [
    "df=pd.read_csv(\"USArrests.csv\")"
   ]
  },
  {
   "cell_type": "code",
   "execution_count": 5,
   "id": "b0583b21",
   "metadata": {},
   "outputs": [
    {
     "data": {
      "text/html": [
       "<div>\n",
       "<style scoped>\n",
       "    .dataframe tbody tr th:only-of-type {\n",
       "        vertical-align: middle;\n",
       "    }\n",
       "\n",
       "    .dataframe tbody tr th {\n",
       "        vertical-align: top;\n",
       "    }\n",
       "\n",
       "    .dataframe thead th {\n",
       "        text-align: right;\n",
       "    }\n",
       "</style>\n",
       "<table border=\"1\" class=\"dataframe\">\n",
       "  <thead>\n",
       "    <tr style=\"text-align: right;\">\n",
       "      <th></th>\n",
       "      <th>Unnamed: 0</th>\n",
       "      <th>Murder</th>\n",
       "      <th>Assault</th>\n",
       "      <th>UrbanPop</th>\n",
       "      <th>Rape</th>\n",
       "    </tr>\n",
       "  </thead>\n",
       "  <tbody>\n",
       "    <tr>\n",
       "      <th>0</th>\n",
       "      <td>Alabama</td>\n",
       "      <td>13.2</td>\n",
       "      <td>236</td>\n",
       "      <td>58</td>\n",
       "      <td>21.2</td>\n",
       "    </tr>\n",
       "    <tr>\n",
       "      <th>1</th>\n",
       "      <td>Alaska</td>\n",
       "      <td>10.0</td>\n",
       "      <td>263</td>\n",
       "      <td>48</td>\n",
       "      <td>44.5</td>\n",
       "    </tr>\n",
       "    <tr>\n",
       "      <th>2</th>\n",
       "      <td>Arizona</td>\n",
       "      <td>8.1</td>\n",
       "      <td>294</td>\n",
       "      <td>80</td>\n",
       "      <td>31.0</td>\n",
       "    </tr>\n",
       "    <tr>\n",
       "      <th>3</th>\n",
       "      <td>Arkansas</td>\n",
       "      <td>8.8</td>\n",
       "      <td>190</td>\n",
       "      <td>50</td>\n",
       "      <td>19.5</td>\n",
       "    </tr>\n",
       "    <tr>\n",
       "      <th>4</th>\n",
       "      <td>California</td>\n",
       "      <td>9.0</td>\n",
       "      <td>276</td>\n",
       "      <td>91</td>\n",
       "      <td>40.6</td>\n",
       "    </tr>\n",
       "  </tbody>\n",
       "</table>\n",
       "</div>"
      ],
      "text/plain": [
       "   Unnamed: 0  Murder  Assault  UrbanPop  Rape\n",
       "0     Alabama    13.2      236        58  21.2\n",
       "1      Alaska    10.0      263        48  44.5\n",
       "2     Arizona     8.1      294        80  31.0\n",
       "3    Arkansas     8.8      190        50  19.5\n",
       "4  California     9.0      276        91  40.6"
      ]
     },
     "execution_count": 5,
     "metadata": {},
     "output_type": "execute_result"
    }
   ],
   "source": [
    "df.head()"
   ]
  },
  {
   "cell_type": "code",
   "execution_count": 7,
   "id": "d6699a1f",
   "metadata": {},
   "outputs": [],
   "source": [
    "df.drop(\"Unnamed: 0\",axis=1,inplace=True)"
   ]
  },
  {
   "cell_type": "code",
   "execution_count": 9,
   "id": "6c8f4ed7",
   "metadata": {},
   "outputs": [],
   "source": [
    "from sklearn.preprocessing import StandardScaler\n",
    "sc=StandardScaler()"
   ]
  },
  {
   "cell_type": "code",
   "execution_count": 14,
   "id": "a9191990",
   "metadata": {},
   "outputs": [],
   "source": [
    "df_sc=sc.fit_transform(df)"
   ]
  },
  {
   "cell_type": "code",
   "execution_count": 17,
   "id": "cb32cea5",
   "metadata": {},
   "outputs": [],
   "source": [
    "from sklearn.decomposition import PCA"
   ]
  },
  {
   "cell_type": "code",
   "execution_count": 18,
   "id": "634298ad",
   "metadata": {},
   "outputs": [],
   "source": [
    "pca=PCA()"
   ]
  },
  {
   "cell_type": "code",
   "execution_count": 24,
   "id": "8df1a4b2",
   "metadata": {},
   "outputs": [],
   "source": [
    "df_pca=pca.fit_transform(df_sc)"
   ]
  },
  {
   "cell_type": "code",
   "execution_count": 29,
   "id": "4e19bef2",
   "metadata": {},
   "outputs": [
    {
     "data": {
      "text/html": [
       "<div>\n",
       "<style scoped>\n",
       "    .dataframe tbody tr th:only-of-type {\n",
       "        vertical-align: middle;\n",
       "    }\n",
       "\n",
       "    .dataframe tbody tr th {\n",
       "        vertical-align: top;\n",
       "    }\n",
       "\n",
       "    .dataframe thead th {\n",
       "        text-align: right;\n",
       "    }\n",
       "</style>\n",
       "<table border=\"1\" class=\"dataframe\">\n",
       "  <thead>\n",
       "    <tr style=\"text-align: right;\">\n",
       "      <th></th>\n",
       "      <th>PC1</th>\n",
       "      <th>PC2</th>\n",
       "      <th>PC3</th>\n",
       "      <th>PC4</th>\n",
       "    </tr>\n",
       "  </thead>\n",
       "  <tbody>\n",
       "    <tr>\n",
       "      <th>0</th>\n",
       "      <td>0.985566</td>\n",
       "      <td>1.133392</td>\n",
       "      <td>-0.444269</td>\n",
       "      <td>0.156267</td>\n",
       "    </tr>\n",
       "    <tr>\n",
       "      <th>1</th>\n",
       "      <td>1.950138</td>\n",
       "      <td>1.073213</td>\n",
       "      <td>2.040003</td>\n",
       "      <td>-0.438583</td>\n",
       "    </tr>\n",
       "    <tr>\n",
       "      <th>2</th>\n",
       "      <td>1.763164</td>\n",
       "      <td>-0.745957</td>\n",
       "      <td>0.054781</td>\n",
       "      <td>-0.834653</td>\n",
       "    </tr>\n",
       "    <tr>\n",
       "      <th>3</th>\n",
       "      <td>-0.141420</td>\n",
       "      <td>1.119797</td>\n",
       "      <td>0.114574</td>\n",
       "      <td>-0.182811</td>\n",
       "    </tr>\n",
       "    <tr>\n",
       "      <th>4</th>\n",
       "      <td>2.523980</td>\n",
       "      <td>-1.542934</td>\n",
       "      <td>0.598557</td>\n",
       "      <td>-0.341996</td>\n",
       "    </tr>\n",
       "    <tr>\n",
       "      <th>5</th>\n",
       "      <td>1.514563</td>\n",
       "      <td>-0.987555</td>\n",
       "      <td>1.095007</td>\n",
       "      <td>0.001465</td>\n",
       "    </tr>\n",
       "    <tr>\n",
       "      <th>6</th>\n",
       "      <td>-1.358647</td>\n",
       "      <td>-1.088928</td>\n",
       "      <td>-0.643258</td>\n",
       "      <td>-0.118469</td>\n",
       "    </tr>\n",
       "    <tr>\n",
       "      <th>7</th>\n",
       "      <td>0.047709</td>\n",
       "      <td>-0.325359</td>\n",
       "      <td>-0.718633</td>\n",
       "      <td>-0.881978</td>\n",
       "    </tr>\n",
       "    <tr>\n",
       "      <th>8</th>\n",
       "      <td>3.013042</td>\n",
       "      <td>0.039229</td>\n",
       "      <td>-0.576829</td>\n",
       "      <td>-0.096285</td>\n",
       "    </tr>\n",
       "    <tr>\n",
       "      <th>9</th>\n",
       "      <td>1.639283</td>\n",
       "      <td>1.278942</td>\n",
       "      <td>-0.342460</td>\n",
       "      <td>1.076797</td>\n",
       "    </tr>\n",
       "    <tr>\n",
       "      <th>10</th>\n",
       "      <td>-0.912657</td>\n",
       "      <td>-1.570460</td>\n",
       "      <td>0.050782</td>\n",
       "      <td>0.902807</td>\n",
       "    </tr>\n",
       "    <tr>\n",
       "      <th>11</th>\n",
       "      <td>-1.639800</td>\n",
       "      <td>0.210973</td>\n",
       "      <td>0.259801</td>\n",
       "      <td>-0.499104</td>\n",
       "    </tr>\n",
       "    <tr>\n",
       "      <th>12</th>\n",
       "      <td>1.378911</td>\n",
       "      <td>-0.681841</td>\n",
       "      <td>-0.677496</td>\n",
       "      <td>-0.122021</td>\n",
       "    </tr>\n",
       "    <tr>\n",
       "      <th>13</th>\n",
       "      <td>-0.505461</td>\n",
       "      <td>-0.151563</td>\n",
       "      <td>0.228055</td>\n",
       "      <td>0.424666</td>\n",
       "    </tr>\n",
       "    <tr>\n",
       "      <th>14</th>\n",
       "      <td>-2.253646</td>\n",
       "      <td>-0.104054</td>\n",
       "      <td>0.164564</td>\n",
       "      <td>0.017556</td>\n",
       "    </tr>\n",
       "    <tr>\n",
       "      <th>15</th>\n",
       "      <td>-0.796881</td>\n",
       "      <td>-0.270165</td>\n",
       "      <td>0.025553</td>\n",
       "      <td>0.206496</td>\n",
       "    </tr>\n",
       "    <tr>\n",
       "      <th>16</th>\n",
       "      <td>-0.750859</td>\n",
       "      <td>0.958440</td>\n",
       "      <td>-0.028369</td>\n",
       "      <td>0.670557</td>\n",
       "    </tr>\n",
       "    <tr>\n",
       "      <th>17</th>\n",
       "      <td>1.564818</td>\n",
       "      <td>0.871055</td>\n",
       "      <td>-0.783480</td>\n",
       "      <td>0.454728</td>\n",
       "    </tr>\n",
       "    <tr>\n",
       "      <th>18</th>\n",
       "      <td>-2.396829</td>\n",
       "      <td>0.376392</td>\n",
       "      <td>-0.065682</td>\n",
       "      <td>-0.330460</td>\n",
       "    </tr>\n",
       "    <tr>\n",
       "      <th>19</th>\n",
       "      <td>1.763369</td>\n",
       "      <td>0.427655</td>\n",
       "      <td>-0.157250</td>\n",
       "      <td>-0.559070</td>\n",
       "    </tr>\n",
       "    <tr>\n",
       "      <th>20</th>\n",
       "      <td>-0.486166</td>\n",
       "      <td>-1.474496</td>\n",
       "      <td>-0.609497</td>\n",
       "      <td>-0.179599</td>\n",
       "    </tr>\n",
       "    <tr>\n",
       "      <th>21</th>\n",
       "      <td>2.108441</td>\n",
       "      <td>-0.155397</td>\n",
       "      <td>0.384869</td>\n",
       "      <td>0.102372</td>\n",
       "    </tr>\n",
       "    <tr>\n",
       "      <th>22</th>\n",
       "      <td>-1.692682</td>\n",
       "      <td>-0.632261</td>\n",
       "      <td>0.153070</td>\n",
       "      <td>0.067317</td>\n",
       "    </tr>\n",
       "    <tr>\n",
       "      <th>23</th>\n",
       "      <td>0.996494</td>\n",
       "      <td>2.393796</td>\n",
       "      <td>-0.740808</td>\n",
       "      <td>0.215508</td>\n",
       "    </tr>\n",
       "    <tr>\n",
       "      <th>24</th>\n",
       "      <td>0.696787</td>\n",
       "      <td>-0.263355</td>\n",
       "      <td>0.377444</td>\n",
       "      <td>0.225824</td>\n",
       "    </tr>\n",
       "    <tr>\n",
       "      <th>25</th>\n",
       "      <td>-1.185452</td>\n",
       "      <td>0.536874</td>\n",
       "      <td>0.246889</td>\n",
       "      <td>0.123742</td>\n",
       "    </tr>\n",
       "    <tr>\n",
       "      <th>26</th>\n",
       "      <td>-1.265637</td>\n",
       "      <td>-0.193954</td>\n",
       "      <td>0.175574</td>\n",
       "      <td>0.015893</td>\n",
       "    </tr>\n",
       "    <tr>\n",
       "      <th>27</th>\n",
       "      <td>2.874395</td>\n",
       "      <td>-0.775600</td>\n",
       "      <td>1.163380</td>\n",
       "      <td>0.314515</td>\n",
       "    </tr>\n",
       "    <tr>\n",
       "      <th>28</th>\n",
       "      <td>-2.383915</td>\n",
       "      <td>-0.018082</td>\n",
       "      <td>0.036855</td>\n",
       "      <td>-0.033137</td>\n",
       "    </tr>\n",
       "    <tr>\n",
       "      <th>29</th>\n",
       "      <td>0.181566</td>\n",
       "      <td>-1.449506</td>\n",
       "      <td>-0.764454</td>\n",
       "      <td>0.243383</td>\n",
       "    </tr>\n",
       "    <tr>\n",
       "      <th>30</th>\n",
       "      <td>1.980024</td>\n",
       "      <td>0.142849</td>\n",
       "      <td>0.183692</td>\n",
       "      <td>-0.339534</td>\n",
       "    </tr>\n",
       "    <tr>\n",
       "      <th>31</th>\n",
       "      <td>1.682577</td>\n",
       "      <td>-0.823184</td>\n",
       "      <td>-0.643075</td>\n",
       "      <td>-0.013484</td>\n",
       "    </tr>\n",
       "    <tr>\n",
       "      <th>32</th>\n",
       "      <td>1.123379</td>\n",
       "      <td>2.228003</td>\n",
       "      <td>-0.863572</td>\n",
       "      <td>-0.954382</td>\n",
       "    </tr>\n",
       "    <tr>\n",
       "      <th>33</th>\n",
       "      <td>-2.992226</td>\n",
       "      <td>0.599119</td>\n",
       "      <td>0.301277</td>\n",
       "      <td>-0.253987</td>\n",
       "    </tr>\n",
       "    <tr>\n",
       "      <th>34</th>\n",
       "      <td>-0.225965</td>\n",
       "      <td>-0.742238</td>\n",
       "      <td>-0.031139</td>\n",
       "      <td>0.473916</td>\n",
       "    </tr>\n",
       "    <tr>\n",
       "      <th>35</th>\n",
       "      <td>-0.311783</td>\n",
       "      <td>-0.287854</td>\n",
       "      <td>-0.015310</td>\n",
       "      <td>0.010332</td>\n",
       "    </tr>\n",
       "    <tr>\n",
       "      <th>36</th>\n",
       "      <td>0.059122</td>\n",
       "      <td>-0.541411</td>\n",
       "      <td>0.939833</td>\n",
       "      <td>-0.237781</td>\n",
       "    </tr>\n",
       "    <tr>\n",
       "      <th>37</th>\n",
       "      <td>-0.888416</td>\n",
       "      <td>-0.571100</td>\n",
       "      <td>-0.400629</td>\n",
       "      <td>0.359061</td>\n",
       "    </tr>\n",
       "    <tr>\n",
       "      <th>38</th>\n",
       "      <td>-0.863772</td>\n",
       "      <td>-1.491978</td>\n",
       "      <td>-1.369946</td>\n",
       "      <td>-0.613569</td>\n",
       "    </tr>\n",
       "    <tr>\n",
       "      <th>39</th>\n",
       "      <td>1.320724</td>\n",
       "      <td>1.933405</td>\n",
       "      <td>-0.300538</td>\n",
       "      <td>-0.131467</td>\n",
       "    </tr>\n",
       "    <tr>\n",
       "      <th>40</th>\n",
       "      <td>-1.987775</td>\n",
       "      <td>0.823343</td>\n",
       "      <td>0.389293</td>\n",
       "      <td>-0.109572</td>\n",
       "    </tr>\n",
       "    <tr>\n",
       "      <th>41</th>\n",
       "      <td>0.999742</td>\n",
       "      <td>0.860251</td>\n",
       "      <td>0.188083</td>\n",
       "      <td>0.652864</td>\n",
       "    </tr>\n",
       "    <tr>\n",
       "      <th>42</th>\n",
       "      <td>1.355138</td>\n",
       "      <td>-0.412481</td>\n",
       "      <td>-0.492069</td>\n",
       "      <td>0.643195</td>\n",
       "    </tr>\n",
       "    <tr>\n",
       "      <th>43</th>\n",
       "      <td>-0.550565</td>\n",
       "      <td>-1.471505</td>\n",
       "      <td>0.293728</td>\n",
       "      <td>-0.082314</td>\n",
       "    </tr>\n",
       "    <tr>\n",
       "      <th>44</th>\n",
       "      <td>-2.801412</td>\n",
       "      <td>1.402288</td>\n",
       "      <td>0.841263</td>\n",
       "      <td>-0.144890</td>\n",
       "    </tr>\n",
       "    <tr>\n",
       "      <th>45</th>\n",
       "      <td>-0.096335</td>\n",
       "      <td>0.199735</td>\n",
       "      <td>0.011713</td>\n",
       "      <td>0.211371</td>\n",
       "    </tr>\n",
       "    <tr>\n",
       "      <th>46</th>\n",
       "      <td>-0.216903</td>\n",
       "      <td>-0.970124</td>\n",
       "      <td>0.624871</td>\n",
       "      <td>-0.220848</td>\n",
       "    </tr>\n",
       "    <tr>\n",
       "      <th>47</th>\n",
       "      <td>-2.108585</td>\n",
       "      <td>1.424847</td>\n",
       "      <td>0.104775</td>\n",
       "      <td>0.131909</td>\n",
       "    </tr>\n",
       "    <tr>\n",
       "      <th>48</th>\n",
       "      <td>-2.079714</td>\n",
       "      <td>-0.611269</td>\n",
       "      <td>-0.138865</td>\n",
       "      <td>0.184104</td>\n",
       "    </tr>\n",
       "    <tr>\n",
       "      <th>49</th>\n",
       "      <td>-0.629427</td>\n",
       "      <td>0.321013</td>\n",
       "      <td>-0.240659</td>\n",
       "      <td>-0.166652</td>\n",
       "    </tr>\n",
       "  </tbody>\n",
       "</table>\n",
       "</div>"
      ],
      "text/plain": [
       "         PC1       PC2       PC3       PC4\n",
       "0   0.985566  1.133392 -0.444269  0.156267\n",
       "1   1.950138  1.073213  2.040003 -0.438583\n",
       "2   1.763164 -0.745957  0.054781 -0.834653\n",
       "3  -0.141420  1.119797  0.114574 -0.182811\n",
       "4   2.523980 -1.542934  0.598557 -0.341996\n",
       "5   1.514563 -0.987555  1.095007  0.001465\n",
       "6  -1.358647 -1.088928 -0.643258 -0.118469\n",
       "7   0.047709 -0.325359 -0.718633 -0.881978\n",
       "8   3.013042  0.039229 -0.576829 -0.096285\n",
       "9   1.639283  1.278942 -0.342460  1.076797\n",
       "10 -0.912657 -1.570460  0.050782  0.902807\n",
       "11 -1.639800  0.210973  0.259801 -0.499104\n",
       "12  1.378911 -0.681841 -0.677496 -0.122021\n",
       "13 -0.505461 -0.151563  0.228055  0.424666\n",
       "14 -2.253646 -0.104054  0.164564  0.017556\n",
       "15 -0.796881 -0.270165  0.025553  0.206496\n",
       "16 -0.750859  0.958440 -0.028369  0.670557\n",
       "17  1.564818  0.871055 -0.783480  0.454728\n",
       "18 -2.396829  0.376392 -0.065682 -0.330460\n",
       "19  1.763369  0.427655 -0.157250 -0.559070\n",
       "20 -0.486166 -1.474496 -0.609497 -0.179599\n",
       "21  2.108441 -0.155397  0.384869  0.102372\n",
       "22 -1.692682 -0.632261  0.153070  0.067317\n",
       "23  0.996494  2.393796 -0.740808  0.215508\n",
       "24  0.696787 -0.263355  0.377444  0.225824\n",
       "25 -1.185452  0.536874  0.246889  0.123742\n",
       "26 -1.265637 -0.193954  0.175574  0.015893\n",
       "27  2.874395 -0.775600  1.163380  0.314515\n",
       "28 -2.383915 -0.018082  0.036855 -0.033137\n",
       "29  0.181566 -1.449506 -0.764454  0.243383\n",
       "30  1.980024  0.142849  0.183692 -0.339534\n",
       "31  1.682577 -0.823184 -0.643075 -0.013484\n",
       "32  1.123379  2.228003 -0.863572 -0.954382\n",
       "33 -2.992226  0.599119  0.301277 -0.253987\n",
       "34 -0.225965 -0.742238 -0.031139  0.473916\n",
       "35 -0.311783 -0.287854 -0.015310  0.010332\n",
       "36  0.059122 -0.541411  0.939833 -0.237781\n",
       "37 -0.888416 -0.571100 -0.400629  0.359061\n",
       "38 -0.863772 -1.491978 -1.369946 -0.613569\n",
       "39  1.320724  1.933405 -0.300538 -0.131467\n",
       "40 -1.987775  0.823343  0.389293 -0.109572\n",
       "41  0.999742  0.860251  0.188083  0.652864\n",
       "42  1.355138 -0.412481 -0.492069  0.643195\n",
       "43 -0.550565 -1.471505  0.293728 -0.082314\n",
       "44 -2.801412  1.402288  0.841263 -0.144890\n",
       "45 -0.096335  0.199735  0.011713  0.211371\n",
       "46 -0.216903 -0.970124  0.624871 -0.220848\n",
       "47 -2.108585  1.424847  0.104775  0.131909\n",
       "48 -2.079714 -0.611269 -0.138865  0.184104\n",
       "49 -0.629427  0.321013 -0.240659 -0.166652"
      ]
     },
     "execution_count": 29,
     "metadata": {},
     "output_type": "execute_result"
    }
   ],
   "source": [
    "component_names = [f\"PC{i+1}\" for i in range(df_pca.shape[1])]\n",
    "pd.DataFrame(df_pca,columns=component_names)"
   ]
  },
  {
   "cell_type": "code",
   "execution_count": 31,
   "id": "03ad4c85",
   "metadata": {},
   "outputs": [
    {
     "data": {
      "text/plain": [
       "array([2.53085875, 1.00996444, 0.36383998, 0.17696948])"
      ]
     },
     "execution_count": 31,
     "metadata": {},
     "output_type": "execute_result"
    }
   ],
   "source": [
    "pca.explained_variance_"
   ]
  },
  {
   "cell_type": "code",
   "execution_count": 32,
   "id": "20dabd4e",
   "metadata": {},
   "outputs": [
    {
     "data": {
      "text/plain": [
       "array([0.62006039, 0.24744129, 0.0891408 , 0.04335752])"
      ]
     },
     "execution_count": 32,
     "metadata": {},
     "output_type": "execute_result"
    }
   ],
   "source": [
    "pca.explained_variance_ratio_"
   ]
  },
  {
   "cell_type": "code",
   "execution_count": 35,
   "id": "0b45b5c8",
   "metadata": {},
   "outputs": [
    {
     "name": "stdout",
     "output_type": "stream",
     "text": [
      "[2.53085875 3.5408232  3.90466318 4.08163265]\n"
     ]
    }
   ],
   "source": [
    "evc = np.cumsum(pca.explained_variance_)\n",
    "print(evc)"
   ]
  },
  {
   "cell_type": "code",
   "execution_count": 50,
   "id": "08e093a2",
   "metadata": {},
   "outputs": [
    {
     "data": {
      "text/plain": [
       "<function matplotlib.pyplot.show(close=None, block=None)>"
      ]
     },
     "execution_count": 50,
     "metadata": {},
     "output_type": "execute_result"
    },
    {
     "data": {
      "image/png": "[encoded data removed]",
      "text/plain": [
       "<Figure size 600x600 with 1 Axes>"
      ]
     },
     "metadata": {},
     "output_type": "display_data"
    }
   ],
   "source": [
    "features = ['Murder', 'Assault', 'UrbanPop', 'Rape']\n",
    "plt.figure(figsize=(6,6))\n",
    "sns.lineplot(x=features, y=evc)\n",
    "plt.xlabel(\"Components features\")\n",
    "plt.ylabel(\"Cummulative explained variance\")\n",
    "plt.ylim(0,5)\n",
    "plt.show"
   ]
  },
  {
   "cell_type": "markdown",
   "id": "e20b3360",
   "metadata": {},
   "source": [
    "### 3. Why Dimension Reduction is an Important  Concept in Data Science?\n"
   ]
  },
  {
   "cell_type": "markdown",
   "id": "86ccba71",
   "metadata": {},
   "source": [
    "- It reduces the time and storage space required.\n",
    "- It helps Remove multi-collinearity which improves the interpretation of the parameters of the machine learning model.\n",
    "- It becomes easier to visualize the data when reduced to very low dimensions such as 2D or 3D.\n",
    "- It avoids the curse of dimensionality.\n",
    "- It removes irrelevant features from the data, Because having irrelevant features in the data can decrease the accuracy of the models and make your model learn based on irrelevant features."
   ]
  },
  {
   "cell_type": "markdown",
   "id": "aa863890",
   "metadata": {},
   "source": [
    "### 4. Explore Other Dimension Reduction Methods other than PCA. Explain it.\n"
   ]
  },
  {
   "cell_type": "markdown",
   "id": "b1e8de21",
   "metadata": {},
   "source": [
    "Among machine learning algorithms, there are many basic linear dimension reduction methods including PCA, ICA, linear discriminant analysis (LDA), LFA, and LPP, but most of them are based on the projection of data, which makes data from the dimension reduction difficult to interpret. Now there are two widely used dimension reduction methods, PCA and LDA, which will be introduced in this section."
   ]
  },
  {
   "cell_type": "markdown",
   "id": "61ad5cfa",
   "metadata": {},
   "source": [
    "###### Linear Discriminant Analysis\n",
    "\n",
    "LDA, also known as Fisher linear discriminant, is a common way of dimension reduction in machine learning. Unlike PCA, it needs to enter known labels, which means it needs supervised conditions. The concept is to find a low-dimensional space in a high-dimensional space, which can make the mean (center points) distance of two or more types of data be the farthest and the intraclasses variance of each type to be as small as possible. As shown in the figure Fig. 2.9, μ represents the center of the data classes, while the size of the red and blue circles represents the size of variance. It can be seen that by projecting the data onto the diagonal on the left, the centers of red and blue datasets can be separated."
   ]
  },
  {
   "attachments": {
    "3-s2.0-B9780128181010000033-f02-09-9780128181010.jpg": {
     "image/jpeg": "[encoded data removed]"
    }
   },
   "cell_type": "markdown",
   "id": "c43e681e",
   "metadata": {},
   "source": [
    "![3-s2.0-B9780128181010000033-f02-09-9780128181010.jpg](attachment:3-s2.0-B9780128181010000033-f02-09-9780128181010.jpg)"
   ]
  }
 ],
 "metadata": {
  "kernelspec": {
   "display_name": "Python 3 (ipykernel)",
   "language": "python",
   "name": "python3"
  },
  "language_info": {
   "codemirror_mode": {
    "name": "ipython",
    "version": 3
   },
   "file_extension": ".py",
   "mimetype": "text/x-python",
   "name": "python",
   "nbconvert_exporter": "python",
   "pygments_lexer": "ipython3",
   "version": "3.11.5"
  }
 },
 "nbformat": 4,
 "nbformat_minor": 5
}
