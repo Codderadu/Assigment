{
 "cells": [
  {
   "cell_type": "markdown",
   "id": "4d087f88",
   "metadata": {},
   "source": [
    "#### 1. Explain Python Tokens & Data Types with the help of Example.\n"
   ]
  },
  {
   "cell_type": "code",
   "execution_count": 48,
   "id": "da93970e",
   "metadata": {},
   "outputs": [
    {
     "data": {
      "text/plain": [
       "bool"
      ]
     },
     "execution_count": 48,
     "metadata": {},
     "output_type": "execute_result"
    }
   ],
   "source": [
    "#Python tokens are True,False,if ,else,for,while,break,continues,and,or these are cont use as function name,variable name\n",
    "s=True\n",
    "type(s)"
   ]
  },
  {
   "cell_type": "markdown",
   "id": "32224a52",
   "metadata": {},
   "source": [
    "#### 2. You’re a Data Scientist. You have assigned a task to perform. Create two lists a & b, where a has values -> (11,89,41,32,77,90) and b has values -> (95,24,39,15,74,22). Compare the corresponding element values of both the lists and print “a element value is greater than belement value” if corresponding value from a is greater else print “a element value is less than b element value” if corresponding value from a is less than b.\n"
   ]
  },
  {
   "cell_type": "code",
   "execution_count": 1,
   "id": "a83d3248",
   "metadata": {},
   "outputs": [],
   "source": [
    "a=list([11,89,41,32,77,90])\n",
    "b=list([95,24,39,15,74,22])"
   ]
  },
  {
   "cell_type": "code",
   "execution_count": 4,
   "id": "857f4b20",
   "metadata": {},
   "outputs": [
    {
     "name": "stdout",
     "output_type": "stream",
     "text": [
      "11 less than 95\n",
      "89 greater than 24\n",
      "41 greater than 39\n",
      "32 greater than 15\n",
      "77 greater than 74\n",
      "90 greater than 22\n"
     ]
    }
   ],
   "source": [
    "for i in range(len(a)):\n",
    "    if a[i]>b[i]:\n",
    "        print(f\"{a[i]} greater than {b[i]}\")\n",
    "    else:\n",
    "        print(f\"{a[i]} less than {b[i]}\")"
   ]
  },
  {
   "cell_type": "markdown",
   "id": "d6159e10",
   "metadata": {},
   "source": [
    "#### 3]. Write code to create a class named Calculator.\n",
    "#### • Define methods for addition, subtraction,multiplication and division that take in two numbers and return another number after Performing their respective operations."
   ]
  },
  {
   "cell_type": "code",
   "execution_count": 8,
   "id": "318d0726",
   "metadata": {},
   "outputs": [],
   "source": [
    "def Calculator(a,b):\n",
    "    print(f\"addition:{a}+{b}={a+b}\")\n",
    "    print(f\"substraction:{a}-{b}={a-b}\")\n",
    "    print(f\"multiplication:{a}*{b}={a*b}\")\n",
    "    print(f\"division:{a}/{b}={a/b}\")\n",
    "     "
   ]
  },
  {
   "cell_type": "code",
   "execution_count": 9,
   "id": "bb7268c9",
   "metadata": {},
   "outputs": [
    {
     "name": "stdout",
     "output_type": "stream",
     "text": [
      "addition:4+5=9\n",
      "substraction:4-5=-1\n",
      "multiplication:4*5=20\n",
      "division:4/5=0.8\n"
     ]
    }
   ],
   "source": [
    "Calculator(4,5)"
   ]
  },
  {
   "cell_type": "markdown",
   "id": "78101189",
   "metadata": {},
   "source": [
    "#### • Define another method named execute command that takes two numbers and a string named command. The command string will be ‘add’, ‘sub’, ‘mul’, ‘div’. Perform Addition, Subtraction, Multiplication and Division on the two numbers respectively. Make sure the execute command method is case insensitive (meaning that even if the user passes ‘aDd’ as command it should perform addition on two numbers).\n"
   ]
  },
  {
   "cell_type": "code",
   "execution_count": 13,
   "id": "1646334f",
   "metadata": {},
   "outputs": [],
   "source": [
    "def cal(a,b,command):\n",
    "    if(command.lower()==\"add\"):\n",
    "        print(f\"addition:{a}+{b}={a+b}\")\n",
    "    elif(command.lower()==\"sub\"):\n",
    "        print(f\"addition:{a}-{b}={a-b}\")\n",
    "    elif(command.lower()==\"mul\"):\n",
    "        print(f\"addition:{a}*{b}={a*b}\")\n",
    "    elif(command.lower()==\"div\"):\n",
    "        print(f\"addition:{a}/{b}={a/b}\")\n",
    "        "
   ]
  },
  {
   "cell_type": "code",
   "execution_count": 15,
   "id": "8926f652",
   "metadata": {},
   "outputs": [
    {
     "name": "stdout",
     "output_type": "stream",
     "text": [
      "addition:4*5=20\n"
     ]
    }
   ],
   "source": [
    "cal(4,5,\"mul\")"
   ]
  },
  {
   "cell_type": "markdown",
   "id": "48dba4e6",
   "metadata": {},
   "source": [
    "#### 4. Create a program to take numbers and store them in a list and Print a Square of numbers as tuple."
   ]
  },
  {
   "cell_type": "code",
   "execution_count": 35,
   "id": "0425c17e",
   "metadata": {},
   "outputs": [
    {
     "name": "stdout",
     "output_type": "stream",
     "text": [
      "how many numbers:3\n",
      "number:3\n",
      "number:3\n",
      "number:3\n",
      "(9, 9, 9)\n"
     ]
    }
   ],
   "source": [
    "n=int(input(\"how many numbers:\"))\n",
    "lst=[]\n",
    "for i in range(n):\n",
    "    lst.append(int(input(\"number:\")))\n",
    "newlst=[]\n",
    "for j in lst:\n",
    "    newlst.append(j*j)\n",
    "t=tuple(newlst)\n",
    "print(t)"
   ]
  },
  {
   "cell_type": "markdown",
   "id": "ce294743",
   "metadata": {},
   "source": [
    "#### 5. Write a Function to check if the year number is a leap year or not. Print all Leap Years of 21st Century."
   ]
  },
  {
   "cell_type": "code",
   "execution_count": 34,
   "id": "b9ca061d",
   "metadata": {},
   "outputs": [
    {
     "name": "stdout",
     "output_type": "stream",
     "text": [
      "Leap years btn 2001,2100 are:\n",
      "2004\n",
      "2008\n",
      "2012\n",
      "2016\n",
      "2020\n",
      "2024\n",
      "2028\n",
      "2032\n",
      "2036\n",
      "2040\n",
      "2044\n",
      "2048\n",
      "2052\n",
      "2056\n",
      "2060\n",
      "2064\n",
      "2068\n",
      "2072\n",
      "2076\n",
      "2080\n",
      "2084\n",
      "2088\n",
      "2092\n",
      "2096\n"
     ]
    }
   ],
   "source": [
    "print(\"Leap years btn 2001,2100 are:\")\n",
    "for year in range(2001,2100):\n",
    "    if(year%4==0 and year%100!=0 or year%400==0):\n",
    "        print(year)"
   ]
  },
  {
   "cell_type": "markdown",
   "id": "be64a77d",
   "metadata": {},
   "source": [
    "#### 6. Write a Function to take an array and return another array that contains the members of the first array that are even in one array and odd in another array."
   ]
  },
  {
   "cell_type": "code",
   "execution_count": 46,
   "id": "d0a0318c",
   "metadata": {},
   "outputs": [
    {
     "data": {
      "text/plain": [
       "([2, 4], [1, 3, 5, 5])"
      ]
     },
     "execution_count": 46,
     "metadata": {},
     "output_type": "execute_result"
    }
   ],
   "source": [
    "def evenOdd(lst):\n",
    "    evenlst=[]\n",
    "    oddlst=[]\n",
    "    for ele in lst:\n",
    "        if ele%2==0:\n",
    "            evenlst.append(ele)\n",
    "        else:\n",
    "            oddlst.append(ele)\n",
    "    return evenlst,oddlst\n",
    "evenOdd([1,2,3,4,5,5])"
   ]
  },
  {
   "cell_type": "markdown",
   "id": "37da219a",
   "metadata": {},
   "source": [
    "#### 7. Write a python code to print the following pattern.\n",
    "#### 1\n",
    "#### 1 2\n",
    "#### 1 2 3\n",
    "#### 1 2 3 4\n",
    "#### 1 2 3 4 5\n"
   ]
  },
  {
   "cell_type": "code",
   "execution_count": 44,
   "id": "602d1b7b",
   "metadata": {},
   "outputs": [
    {
     "name": "stdout",
     "output_type": "stream",
     "text": [
      "1 \n",
      "1 2 \n",
      "1 2 3 \n",
      "1 2 3 4 \n",
      "1 2 3 4 5 \n"
     ]
    }
   ],
   "source": [
    "for i in range(0,5):\n",
    "    for j in range(0,i+1):\n",
    "        print(j+1,end=\" \")\n",
    "    print(end=\"\\n\")\n",
    "    "
   ]
  },
  {
   "cell_type": "code",
   "execution_count": null,
   "id": "2c003270",
   "metadata": {},
   "outputs": [],
   "source": []
  }
 ],
 "metadata": {
  "kernelspec": {
   "display_name": "Python 3 (ipykernel)",
   "language": "python",
   "name": "python3"
  },
  "language_info": {
   "codemirror_mode": {
    "name": "ipython",
    "version": 3
   },
   "file_extension": ".py",
   "mimetype": "text/x-python",
   "name": "python",
   "nbconvert_exporter": "python",
   "pygments_lexer": "ipython3",
   "version": "3.11.5"
  }
 },
 "nbformat": 4,
 "nbformat_minor": 5
}
