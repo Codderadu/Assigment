{
 "cells": [
  {
   "cell_type": "markdown",
   "id": "5ea889ca",
   "metadata": {},
   "source": [
    "### 1.What are the different Tableau files?"
   ]
  },
  {
   "cell_type": "markdown",
   "id": "ea8e8d50",
   "metadata": {},
   "source": [
    "You can save your work using several different Tableau specific file types: workbooks, bookmarks, packaged data files, data extracts, and data connection files. Each of these file types are described below."
   ]
  },
  {
   "cell_type": "markdown",
   "id": "2a02dd49",
   "metadata": {},
   "source": [
    "- Workbooks (.twb) – Tableau workbook files have the .twb file extension. Workbooks hold one or more worksheets, plus zero or more dashboards and stories.\n"
   ]
  },
  {
   "cell_type": "markdown",
   "id": "b02b45a0",
   "metadata": {},
   "source": [
    "\n",
    "- Packaged Workbooks (.twbx) – Tableau packaged workbooks have the .twbx file extension. A packaged workbook is a single zip file that contains a workbook along with any supporting local file data and background images. This format is the best way to package your work for sharing with others who don’t have access to the original data.\n",
    "\n"
   ]
  },
  {
   "cell_type": "markdown",
   "id": "7b59bfa4",
   "metadata": {},
   "source": [
    "- Extract (.hyper) – Tableau extract files have the .hyper extension. Extract files are a local copy of a subset or entire data set that you can use to share data with others, when you need to work offline, and improve performance.\n",
    "\n",
    "\n"
   ]
  },
  {
   "cell_type": "markdown",
   "id": "9a9b56d2",
   "metadata": {},
   "source": [
    "- Data Source (.tds) – Tableau data source files have the .tds file extension. Data source files are shortcuts for quickly connecting to the original data that you use often. Data source files do not contain the actual data but rather the information necessary to connect to the actual data as well as any modifications you've made on top of the actual data such as changing default properties, creating calculated fields, adding groups, and so on.\n",
    "\n",
    "\n"
   ]
  },
  {
   "cell_type": "markdown",
   "id": "6f011ded",
   "metadata": {},
   "source": [
    "- Packaged Data Source (.tdsx) – Tableau packaged data source files have the .tdsx file extension. A packaged data source is a zip file that contains the data source file (.tds) described above as well as any local file data such as extract files (.hyper), text files, Excel files, Access files, and local cube files. Use this format to create a single file that you can then share with others who may not have access to the original data stored locally on your computer."
   ]
  },
  {
   "cell_type": "markdown",
   "id": "6a1cf385",
   "metadata": {},
   "source": [
    "### 2.Explain Charts, Tables and Filter in Tableau."
   ]
  },
  {
   "cell_type": "markdown",
   "id": "fb8f03e1",
   "metadata": {},
   "source": [
    "#### 1.Charts\n",
    "A chart is a representation of data in the form of a graph, diagram, map, or tabular format. This could make the other two families, Geospatial and Tables, subfamilies of it. We distinguish between them to help you identify when one works better for your data. Consider the most common Charts: Scatterplots, Bar Charts, Line Graphs, and Pie Charts. These chart types, or a combination of them, provide answers to most questions with relational data. They are the backbone of performing visual analysis on non-geospatial data."
   ]
  },
  {
   "cell_type": "markdown",
   "id": "19e53ad4",
   "metadata": {},
   "source": [
    "#### 2.Tables\n",
    "Like most charts, a table organizes data by axis. The rows are the x-axis and columns are the y-axis. Common convention, because tables are read, uses the x-axis to display the categories. The y-axis displays the values within each measure, with the columns being labeled to clearly indicate their meaning. Unlike most charts, tables can display qualitative data in an organized manner and highlight relationships between them."
   ]
  },
  {
   "cell_type": "markdown",
   "id": "a547d540",
   "metadata": {},
   "source": [
    "#### 3.Filter\n",
    "Filters are very helpful to create dashboards in Tableau. Filters can help to minimize the size of data sets for efficient use, eliminate irrelevant dimension elements, clean up underlying data, set date ranges and measures as required, simplify and organize data, etc."
   ]
  },
  {
   "cell_type": "markdown",
   "id": "ce392fd6",
   "metadata": {},
   "source": [
    "### 3.Why should you use Tableau?"
   ]
  },
  {
   "cell_type": "markdown",
   "id": "2731d855",
   "metadata": {},
   "source": [
    "- As the market-leading choice for modern business intelligence, the Tableau platform is known for taking any kind of data from almost any system, and turning it into actionable insights with speed and ease. It’s as simple as dragging and dropping. Plus, our industry-leading enablement resources, training, and global data community offer unparalleled support for  customers and their analytics investments. And  help  people to see and understand data"
   ]
  },
  {
   "cell_type": "markdown",
   "id": "890808f1",
   "metadata": {},
   "source": [
    "- It helps users create different charts, graphs, maps, dashboards, and stories for visualizing and analyzing data, to help in making business decisions. Tableau has a lot of unique, exciting features that make it one of the most popular tools in business intelligence (BI)."
   ]
  },
  {
   "cell_type": "markdown",
   "id": "b0f29648",
   "metadata": {},
   "source": [
    "- Tableau supports powerful data discovery and exploration that enables users to answer important questions in seconds\n",
    "- No prior programming knowledge is needed; users without relevant experience can start immediately with creating visualizations using Tableau\n",
    "- It can connect to several data sources that other BI tools do not support. Tableau enables users to create reports by joining and blending different datasets\n",
    "- Tableau Server supports a centralized location to manage all published data sources within an organization\n"
   ]
  },
  {
   "cell_type": "markdown",
   "id": "d94fe75e",
   "metadata": {},
   "source": [
    "### 4.Create Dashboard and Stories in Tableau."
   ]
  },
  {
   "cell_type": "markdown",
   "id": "a48a9066",
   "metadata": {},
   "source": [
    "- Below link is for Tableau Projects:"
   ]
  },
  {
   "cell_type": "code",
   "execution_count": 9,
   "id": "877a2ba8",
   "metadata": {},
   "outputs": [
    {
     "data": {
      "text/html": [
       "<a href=\"https://public.tableau.com/app/profile/adinath.khamkar2673/viz/airlinepriceprediction_17009900082950/Airlinepriceprediction\">Click Here</a>\n"
      ],
      "text/plain": [
       "<IPython.core.display.HTML object>"
      ]
     },
     "metadata": {},
     "output_type": "display_data"
    }
   ],
   "source": [
    "%%html\n",
    "<a href=\"https://public.tableau.com/app/profile/adinath.khamkar2673/viz/airlinepriceprediction_17009900082950/Airlinepriceprediction\">Click Here</a>"
   ]
  },
  {
   "cell_type": "code",
   "execution_count": null,
   "id": "891d8080",
   "metadata": {},
   "outputs": [],
   "source": []
  }
 ],
 "metadata": {
  "kernelspec": {
   "display_name": "Python 3 (ipykernel)",
   "language": "python",
   "name": "python3"
  },
  "language_info": {
   "codemirror_mode": {
    "name": "ipython",
    "version": 3
   },
   "file_extension": ".py",
   "mimetype": "text/x-python",
   "name": "python",
   "nbconvert_exporter": "python",
   "pygments_lexer": "ipython3",
   "version": "3.11.5"
  }
 },
 "nbformat": 4,
 "nbformat_minor": 5
}
