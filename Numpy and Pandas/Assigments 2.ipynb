{
 "cells": [
  {
   "cell_type": "code",
   "execution_count": 1,
   "id": "fbeeb166",
   "metadata": {},
   "outputs": [],
   "source": [
    "import numpy as np\n",
    "import pandas as pd"
   ]
  },
  {
   "cell_type": "markdown",
   "id": "de52fcee",
   "metadata": {},
   "source": [
    "### 1. Create the NumPy array with values (1,2,3).Create a second Numpy array with values (4,5,6). Perform simple arithmetic operations on these two"
   ]
  },
  {
   "cell_type": "code",
   "execution_count": 2,
   "id": "0e081296",
   "metadata": {},
   "outputs": [],
   "source": [
    "a=np.array([1,2,3])\n",
    "b=np.array([4,5,6])"
   ]
  },
  {
   "cell_type": "code",
   "execution_count": 3,
   "id": "13dba76c",
   "metadata": {},
   "outputs": [
    {
     "data": {
      "text/plain": [
       "array([5, 7, 9])"
      ]
     },
     "execution_count": 3,
     "metadata": {},
     "output_type": "execute_result"
    }
   ],
   "source": [
    "#a. addition\n",
    "a+b"
   ]
  },
  {
   "cell_type": "code",
   "execution_count": 4,
   "id": "37c09b0a",
   "metadata": {},
   "outputs": [
    {
     "data": {
      "text/plain": [
       "array([-3, -3, -3])"
      ]
     },
     "execution_count": 4,
     "metadata": {},
     "output_type": "execute_result"
    }
   ],
   "source": [
    "# b. Subtraction\n",
    "a-b"
   ]
  },
  {
   "cell_type": "code",
   "execution_count": 5,
   "id": "086f65c7",
   "metadata": {},
   "outputs": [
    {
     "data": {
      "text/plain": [
       "array([ 4, 10, 18])"
      ]
     },
     "execution_count": 5,
     "metadata": {},
     "output_type": "execute_result"
    }
   ],
   "source": [
    "# c. Multiplication\n",
    "a*b"
   ]
  },
  {
   "cell_type": "code",
   "execution_count": 6,
   "id": "232212d7",
   "metadata": {},
   "outputs": [
    {
     "data": {
      "text/plain": [
       "array([0.25, 0.4 , 0.5 ])"
      ]
     },
     "execution_count": 6,
     "metadata": {},
     "output_type": "execute_result"
    }
   ],
   "source": [
    "# d. Division\n",
    "a/b"
   ]
  },
  {
   "cell_type": "markdown",
   "id": "3b01800b",
   "metadata": {},
   "source": [
    "### 2. Create a Numpy array between values 10-90 and set the shape to be 3*3"
   ]
  },
  {
   "cell_type": "code",
   "execution_count": 7,
   "id": "d12d070b",
   "metadata": {},
   "outputs": [],
   "source": [
    "matrix=np.arange(10,90,9).reshape(3,3)"
   ]
  },
  {
   "cell_type": "code",
   "execution_count": 8,
   "id": "242dd371",
   "metadata": {},
   "outputs": [
    {
     "data": {
      "text/plain": [
       "array([[10, 19, 28],\n",
       "       [37, 46, 55],\n",
       "       [64, 73, 82]])"
      ]
     },
     "execution_count": 8,
     "metadata": {},
     "output_type": "execute_result"
    }
   ],
   "source": [
    "matrix"
   ]
  },
  {
   "cell_type": "markdown",
   "id": "1572c04d",
   "metadata": {},
   "source": [
    "a. Extract only the 3rd column from the Numpy\n",
    "array."
   ]
  },
  {
   "cell_type": "code",
   "execution_count": 9,
   "id": "4344789f",
   "metadata": {},
   "outputs": [
    {
     "data": {
      "text/plain": [
       "array([28, 55, 82])"
      ]
     },
     "execution_count": 9,
     "metadata": {},
     "output_type": "execute_result"
    }
   ],
   "source": [
    "matrix[:,2]"
   ]
  },
  {
   "cell_type": "markdown",
   "id": "51912cbb",
   "metadata": {},
   "source": [
    "b. Extract only the 2nd row from the Numpy array"
   ]
  },
  {
   "cell_type": "code",
   "execution_count": 10,
   "id": "85a5af6e",
   "metadata": {},
   "outputs": [
    {
     "data": {
      "text/plain": [
       "array([37, 46, 55])"
      ]
     },
     "execution_count": 10,
     "metadata": {},
     "output_type": "execute_result"
    }
   ],
   "source": [
    "matrix[1]"
   ]
  },
  {
   "cell_type": "markdown",
   "id": "a3835a56",
   "metadata": {},
   "source": [
    "c. Extract those cells at the intersection of first two\n",
    "rows and first two columns"
   ]
  },
  {
   "cell_type": "code",
   "execution_count": 11,
   "id": "d102bb41",
   "metadata": {},
   "outputs": [
    {
     "data": {
      "text/plain": [
       "array([[10, 19],\n",
       "       [37, 46]])"
      ]
     },
     "execution_count": 11,
     "metadata": {},
     "output_type": "execute_result"
    }
   ],
   "source": [
    "matrix[:2,:2]"
   ]
  },
  {
   "cell_type": "markdown",
   "id": "15c00943",
   "metadata": {},
   "source": [
    "### 3. Create a dictionary with 4 items and convert it into panda’s series. Create Dictionary of Pandas series Convert above dictionary into data frame Slice last 2 rows from the data frame Slice a column from the data frame Create dictionary of tuples. Convert it into dataframe.\\"
   ]
  },
  {
   "cell_type": "code",
   "execution_count": 12,
   "id": "a0665004",
   "metadata": {},
   "outputs": [],
   "source": [
    "d=dict({1:\"adinath\",2:\"gurunath\",3:\"khamkar\",4:\"developer\"})"
   ]
  },
  {
   "cell_type": "code",
   "execution_count": 13,
   "id": "2a4a4655",
   "metadata": {},
   "outputs": [],
   "source": [
    "ser=pd.Series(d)"
   ]
  },
  {
   "cell_type": "code",
   "execution_count": 14,
   "id": "1ae0e687",
   "metadata": {},
   "outputs": [
    {
     "data": {
      "text/html": [
       "<div>\n",
       "<style scoped>\n",
       "    .dataframe tbody tr th:only-of-type {\n",
       "        vertical-align: middle;\n",
       "    }\n",
       "\n",
       "    .dataframe tbody tr th {\n",
       "        vertical-align: top;\n",
       "    }\n",
       "\n",
       "    .dataframe thead th {\n",
       "        text-align: right;\n",
       "    }\n",
       "</style>\n",
       "<table border=\"1\" class=\"dataframe\">\n",
       "  <thead>\n",
       "    <tr style=\"text-align: right;\">\n",
       "      <th></th>\n",
       "      <th>0</th>\n",
       "    </tr>\n",
       "  </thead>\n",
       "  <tbody>\n",
       "    <tr>\n",
       "      <th>1</th>\n",
       "      <td>adinath</td>\n",
       "    </tr>\n",
       "    <tr>\n",
       "      <th>2</th>\n",
       "      <td>gurunath</td>\n",
       "    </tr>\n",
       "    <tr>\n",
       "      <th>3</th>\n",
       "      <td>khamkar</td>\n",
       "    </tr>\n",
       "    <tr>\n",
       "      <th>4</th>\n",
       "      <td>developer</td>\n",
       "    </tr>\n",
       "  </tbody>\n",
       "</table>\n",
       "</div>"
      ],
      "text/plain": [
       "           0\n",
       "1    adinath\n",
       "2   gurunath\n",
       "3    khamkar\n",
       "4  developer"
      ]
     },
     "execution_count": 14,
     "metadata": {},
     "output_type": "execute_result"
    }
   ],
   "source": [
    "pd.DataFrame(ser)"
   ]
  },
  {
   "cell_type": "code",
   "execution_count": 15,
   "id": "a429f55b",
   "metadata": {},
   "outputs": [],
   "source": [
    "#Series into the DataFrame\n",
    "keys=pd.Series([1,2,3,4])\n",
    "values=pd.Series([\"a\",\"b\",\"c\",\"d\"])"
   ]
  },
  {
   "cell_type": "code",
   "execution_count": 16,
   "id": "583ab603",
   "metadata": {},
   "outputs": [
    {
     "data": {
      "text/html": [
       "<div>\n",
       "<style scoped>\n",
       "    .dataframe tbody tr th:only-of-type {\n",
       "        vertical-align: middle;\n",
       "    }\n",
       "\n",
       "    .dataframe tbody tr th {\n",
       "        vertical-align: top;\n",
       "    }\n",
       "\n",
       "    .dataframe thead th {\n",
       "        text-align: right;\n",
       "    }\n",
       "</style>\n",
       "<table border=\"1\" class=\"dataframe\">\n",
       "  <thead>\n",
       "    <tr style=\"text-align: right;\">\n",
       "      <th></th>\n",
       "      <th>0</th>\n",
       "      <th>1</th>\n",
       "    </tr>\n",
       "  </thead>\n",
       "  <tbody>\n",
       "    <tr>\n",
       "      <th>0</th>\n",
       "      <td>1</td>\n",
       "      <td>a</td>\n",
       "    </tr>\n",
       "    <tr>\n",
       "      <th>1</th>\n",
       "      <td>2</td>\n",
       "      <td>b</td>\n",
       "    </tr>\n",
       "    <tr>\n",
       "      <th>2</th>\n",
       "      <td>3</td>\n",
       "      <td>c</td>\n",
       "    </tr>\n",
       "    <tr>\n",
       "      <th>3</th>\n",
       "      <td>4</td>\n",
       "      <td>d</td>\n",
       "    </tr>\n",
       "  </tbody>\n",
       "</table>\n",
       "</div>"
      ],
      "text/plain": [
       "   0  1\n",
       "0  1  a\n",
       "1  2  b\n",
       "2  3  c\n",
       "3  4  d"
      ]
     },
     "execution_count": 16,
     "metadata": {},
     "output_type": "execute_result"
    }
   ],
   "source": [
    "df=pd.concat([keys,values],axis=1)\n",
    "df"
   ]
  },
  {
   "cell_type": "code",
   "execution_count": 17,
   "id": "d5913931",
   "metadata": {},
   "outputs": [
    {
     "data": {
      "text/html": [
       "<div>\n",
       "<style scoped>\n",
       "    .dataframe tbody tr th:only-of-type {\n",
       "        vertical-align: middle;\n",
       "    }\n",
       "\n",
       "    .dataframe tbody tr th {\n",
       "        vertical-align: top;\n",
       "    }\n",
       "\n",
       "    .dataframe thead th {\n",
       "        text-align: right;\n",
       "    }\n",
       "</style>\n",
       "<table border=\"1\" class=\"dataframe\">\n",
       "  <thead>\n",
       "    <tr style=\"text-align: right;\">\n",
       "      <th></th>\n",
       "      <th>0</th>\n",
       "      <th>1</th>\n",
       "    </tr>\n",
       "  </thead>\n",
       "  <tbody>\n",
       "    <tr>\n",
       "      <th>2</th>\n",
       "      <td>3</td>\n",
       "      <td>c</td>\n",
       "    </tr>\n",
       "    <tr>\n",
       "      <th>3</th>\n",
       "      <td>4</td>\n",
       "      <td>d</td>\n",
       "    </tr>\n",
       "  </tbody>\n",
       "</table>\n",
       "</div>"
      ],
      "text/plain": [
       "   0  1\n",
       "2  3  c\n",
       "3  4  d"
      ]
     },
     "execution_count": 17,
     "metadata": {},
     "output_type": "execute_result"
    }
   ],
   "source": [
    "# Slice last 2 rows\n",
    "df[-2:]"
   ]
  },
  {
   "cell_type": "code",
   "execution_count": 21,
   "id": "1ed525a9",
   "metadata": {},
   "outputs": [],
   "source": [
    "\n",
    "#dictionary of tuples\n",
    "d=dict([('Sachin', 10), ('MSD', 7), ('Kohli', 18), ('Rohit', 45)])"
   ]
  },
  {
   "cell_type": "code",
   "execution_count": 31,
   "id": "20ab439e",
   "metadata": {},
   "outputs": [],
   "source": [
    "ser=pd.Series(d)"
   ]
  },
  {
   "cell_type": "code",
   "execution_count": 36,
   "id": "fac86f1a",
   "metadata": {},
   "outputs": [],
   "source": [
    "df=pd.DataFrame(ser)"
   ]
  },
  {
   "cell_type": "code",
   "execution_count": 39,
   "id": "3ebe0156",
   "metadata": {},
   "outputs": [
    {
     "name": "stdout",
     "output_type": "stream",
     "text": [
      "<class 'pandas.core.frame.DataFrame'>\n",
      "Index: 4 entries, Sachin to Rohit\n",
      "Data columns (total 1 columns):\n",
      " #   Column  Non-Null Count  Dtype\n",
      "---  ------  --------------  -----\n",
      " 0   0       4 non-null      int64\n",
      "dtypes: int64(1)\n",
      "memory usage: 64.0+ bytes\n"
     ]
    }
   ],
   "source": [
    "df.info()"
   ]
  },
  {
   "cell_type": "markdown",
   "id": "4fa891ef",
   "metadata": {},
   "source": [
    "### 4. Explain the use of NumPy library along with the Data structures in NumPy."
   ]
  },
  {
   "cell_type": "markdown",
   "id": "5b1929c8",
   "metadata": {},
   "source": [
    "NumPy is the fundamental package for scientific computing in Python.\n",
    "It is a Python library that provides a multidimensional array object, various derived objects\n",
    "(such as masked arrays and matrices), and an assortment of routines for fast operations on\n",
    "arrays, including mathematical, logical, shape manipulation, sorting, selecting, I/O, discrete\n",
    "Fourier transforms, basic linear algebra, basic statistical operations, random simulation and\n",
    "much more.\n",
    "At the core of the NumPy package, is the ndarray object. This encapsulates n-dimensional\n",
    "arrays of homogeneous data types"
   ]
  },
  {
   "cell_type": "code",
   "execution_count": 41,
   "id": "31507cfc",
   "metadata": {},
   "outputs": [],
   "source": [
    "#datastrutures in numpy\n",
    "#ndarray"
   ]
  },
  {
   "cell_type": "markdown",
   "id": "a61ecdd9",
   "metadata": {},
   "source": [
    "### 5. Explain the use of Pandas library along with the Data structures in Pandas. "
   ]
  },
  {
   "cell_type": "markdown",
   "id": "1ff8f1d8",
   "metadata": {},
   "source": [
    "##### Pandas is a fast, powerful, flexible and easy to use open source data analysis and manipulation tool, built on top of the Python programming language."
   ]
  },
  {
   "cell_type": "markdown",
   "id": "9da95a94",
   "metadata": {},
   "source": [
    "1. A fast and efficient DataFrame object for data manipulation.\n",
    "2. Tools for reading and writing data between in-memory data structures and different formats: CSV and text files, \n",
    "    Microsoft Excel, SQL databases.\n",
    "3. Intelligent data alignment and integrated handling of missing data:easily manipulate messy data into an orderly form.\n",
    "4. Flexible reshaping and pivoting of data sets.\n",
    "5. Intelligent label-based slicing, fancy indexing, and subsetting of large data sets.\n",
    "6. Columns can be inserted and deleted from data structures for size mutability."
   ]
  },
  {
   "cell_type": "code",
   "execution_count": 42,
   "id": "54d5a580",
   "metadata": {},
   "outputs": [],
   "source": [
    "# DataStructure in pandas\n",
    "# pd.Series()\n",
    "# pd.DataFrame()"
   ]
  }
 ],
 "metadata": {
  "kernelspec": {
   "display_name": "Python 3 (ipykernel)",
   "language": "python",
   "name": "python3"
  },
  "language_info": {
   "codemirror_mode": {
    "name": "ipython",
    "version": 3
   },
   "file_extension": ".py",
   "mimetype": "text/x-python",
   "name": "python",
   "nbconvert_exporter": "python",
   "pygments_lexer": "ipython3",
   "version": "3.11.5"
  }
 },
 "nbformat": 4,
 "nbformat_minor": 5
}
