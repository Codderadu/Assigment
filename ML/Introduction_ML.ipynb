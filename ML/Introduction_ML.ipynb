{
 "cells": [
  {
   "cell_type": "markdown",
   "id": "b601a689",
   "metadata": {},
   "source": [
    "### 1.Where do you place and use machine learning, Explain with the help of an example?\n"
   ]
  },
  {
   "cell_type": "markdown",
   "id": "9cec51c3",
   "metadata": {},
   "source": [
    "Machine learning is a subfield of artificial intelligence in which systems have the ability to “learn” through data, statistics and trial and error in order to optimize processes and innovate at quicker rates. Machine learning gives computers the ability to develop human-like learning capabilities, which allows them to solve some of the world’s toughest problems, ranging from cancer research to climate change."
   ]
  },
  {
   "cell_type": "markdown",
   "id": "5775abd5",
   "metadata": {},
   "source": [
    "When the average person thinks about machine learning, it may feel overwhelming, complicated, and perhaps intangible, conjuring up images of futuristic robots taking over the world. As more organizations and people rely on machine learning models to manage growing volumes of data, instances of machine learning are occurring in front of and around us daily—whether we notice or not. What’s exciting to see is how it’s improving our quality of life, supporting quicker and more effective execution of some business operations and industries, and uncovering patterns that humans are likely to miss. Here are examples of machine learning at work in our daily life that provide value in many ways—some large and some small."
   ]
  },
  {
   "cell_type": "markdown",
   "id": "59c2670b",
   "metadata": {},
   "source": [
    "### examples:\n",
    "#### 1. Facial recognition\n",
    "Facial recognition is one of the more obvious applications of machine learning. People previously received name suggestions for their mobile photos and Facebook tagging, but now someone is immediately tagged and verified by comparing and analyzing patterns through facial contours. And facial recognition paired with deep learning has become highly useful in healthcare to help detect genetic diseases or track a patient’s use of medication more accurately. It’s also used to combat important social issues such as child sex trafficking or sexual exploitation of children. The list of applications and industries influenced by it is steadily on the rise.\n",
    "\n",
    "#### 2. Product recommendations\n",
    "Do you wonder how Amazon or other retailers frequently know what you might like to purchase? Or, have they gotten it wildly wrong and you wonder how they came up with the recommendation? Thank machine learning. Targeted marketing with retail uses machine learning to group customers based on buying habits or demographic similarities, and by extrapolating what one person may want from someone else’s purchases. While some suggested purchase pairings are obvious, machine learning can get eerily accurate by finding hidden relationships in data and predicting what you want before you know you want it. If the data is incomplete, sometimes you may end up with an offbase recommendation—but don’t worry, because not buying it is another data point to learn from.\n",
    "\n",
    "#### 3. Financial accuracy\n",
    "Machine learning has created a boon for the financial industry as most systems go digital. Abundant financial transactions that can’t be monitored by human eyes are easily analyzed thanks to machine learning, which helps find fraudulent transactions. One of the newest banking features is the ability to deposit a check straight from your phone by using handwriting and image recognition to “read” checks and convert them to digital text. Credit scores and lending decisions are also powered by machine learning as it both influences a score and analyzes financial risk. Additionally, combining data analytics with artificial intelligence, machine learning, and natural language processing is changing the customer experience in banking."
   ]
  },
  {
   "cell_type": "markdown",
   "id": "186357ef",
   "metadata": {},
   "source": [
    "### 2.Write the steps involved in machine learning?\n"
   ]
  },
  {
   "cell_type": "markdown",
   "id": "dbfa30ac",
   "metadata": {},
   "source": [
    "#### 1. Collecting Data:\n",
    "As you know, machines initially learn from the data that you give them. It is of the utmost importance to collect reliable data so that your machine learning model can find the correct patterns. The quality of the data that you feed to the machine will determine how accurate your model is. If you have incorrect or outdated data, you will have wrong outcomes or predictions which are not relevant.  \n",
    "\n",
    "Make sure you use data from a reliable source, as it will directly affect the outcome of your model. Good data is relevant, contains very few missing and repeated values, and has a good representation of the various subcategories/classes present. \n",
    "\n",
    "#### 2.Preparing the Data:\n",
    "After you have your data, you have to prepare it. You can do this by :\n",
    "\n",
    "Putting together all the data you have and randomizing it. This helps make sure that data is evenly distributed, and the ordering does not affect the learning process.\n",
    "Cleaning the data to remove unwanted data, missing values, rows, and columns, duplicate values, data type conversion, etc. You might even have to restructure the dataset and change the rows and columns or index of rows and columns.\n",
    "Visualize the data to understand how it is structured and understand the relationship between various variables and classes present.\n",
    "Splitting the cleaned data into two sets - a training set and a testing set. The training set is the set your model learns from. A testing set is used to check the accuracy of your model after training.\n",
    "\n",
    "#### 3.Choosing a Model: \n",
    "A machine learning model determines the output you get after running a machine learning algorithm on the collected data. It is important to choose a model which is relevant to the task at hand. Over the years, scientists and engineers developed various models suited for different tasks like speech recognition, image recognition, prediction, etc. Apart from this, you also have to see if your model is suited for numerical or categorical data and choose accordingly.\n",
    "\n",
    "#### 4.Training the Model:\n",
    "Training is the most important step in machine learning. In training, you pass the prepared data to your machine learning model to find patterns and make predictions. It results in the model learning from the data so that it can accomplish the task set. Over time, with training, the model gets better at predicting. \n",
    "\n",
    "#### 5.Evaluating the Model:\n",
    "After training your model, you have to check to see how it’s performing. This is done by testing the performance of the model on previously unseen data. The unseen data used is the testing set that you split our data into earlier. If testing was done on the same data which is used for training, you will not get an accurate measure, as the model is already used to the data, and finds the same patterns in it, as it previously did. This will give you disproportionately high accuracy. \n",
    "When used on testing data, you get an accurate measure of how your model will perform and its speed.\n",
    "\n",
    "#### 6.Parameter Tuning:\n",
    "Once you have created and evaluated your model, see if its accuracy can be improved in any way. This is done by tuning the parameters present in your model. Parameters are the variables in the model that the programmer generally decides. At a particular value of your parameter, the accuracy will be the maximum. Parameter tuning refers to finding these values.\n",
    "\n",
    "#### 7.Making Predictions\n",
    "In the end, you can use your model on unseen data to make predictions accurately."
   ]
  },
  {
   "cell_type": "markdown",
   "id": "5bb4da79",
   "metadata": {},
   "source": [
    "### 3.Give application for machine learning?\n"
   ]
  },
  {
   "cell_type": "markdown",
   "id": "c672c8e3",
   "metadata": {},
   "source": [
    " ####  - Image Recognition\n",
    "One of the most notable machine learning applications is image recognition, which is a method for cataloging and detecting an object or feature in a digital image. In addition, this technique is used for further analysis, such as pattern recognition, face detection, and face recognition. \n",
    "\n",
    "#### - Speech Recognition\n",
    "ML software can make measurements of words spoken using a collection of numbers that represent the speech signal. Popular applications that employ speech recognition include Amazon’s Alexa, Apple’s Siri, and Google Maps. \n",
    "\n",
    "#### - Predict Traffic Patterns\n",
    "To explain this, let’s consider the example of Google maps. When we enter our location on the map, the application collects massive amounts of data about the present traffic to generate predictions regarding the upcoming traffic and identify the fastest route to our destination.   \n",
    "\n",
    "#### - E-commerce Product Recommendations\n",
    "One of the prominent elements of typically any e-commerce website is product recommendation, which involves the sophisticated use of machine learning algorithms. Websites track customer behavior based on past purchases, browsing habits, and cart history and then recommend products using machine learning and AI.\n",
    "\n",
    "#### - Self-Driving Cars\n",
    "Self-driving cars use an unsupervised learning algorithm that heavily relies on machine learning techniques. This algorithm enables the vehicle to collect information from cameras and sensors about its surroundings, understand it, and choose what actions to perform.\n",
    "\n",
    "#### - Catching Email Spam\n",
    "One of the most popular applications of machine learning that everyone is familiar with is in detecting email spam. Email service providers build applications with spam filters that use an ML algorithm to classify an incoming email as spam and direct it to the spam folder. \n",
    "\n",
    "#### - Catching Malware\n",
    "The process of using machine learning (ML) to detect malware consists of two basic stages. First, analyzing suspicious activities in an Android environment to generate a suitable collection of features; second, training the system to use the machine and deep learning (DL) techniques on the generated features to detect future cyberattacks in such environments. \n",
    "\n",
    "#### - Virtual Personal Assistant\n",
    "Virtual personal assistants help people access relevant information via text or voice. When a query is put into the system, the personal assistant gathers information by searching for it or recalling similar questions an individual has asked in the past. Some popular ML techniques involved in virtual assistants include speech recognition, speech-to-text conversion, natural language processing, and text-to-speech conversion. \n",
    "\n",
    "#### - Online Fraud Recognition\n",
    "One of the most essential applications of machine learning is fraud detection. Every time a customer completes a transaction, the machine learning model carefully examines their profile in search of any unusual patterns to detect online fraud.\n",
    "\n",
    "#### - Stock Market and Day Trading\n",
    "When it comes to the stock market and day trading, machine learning employs algorithmic trading to extract important data to automate or support crucial investment activities. Successful portfolio management, and choosing when to buy and sell stocks are some tasks accomplished using ML.  "
   ]
  },
  {
   "cell_type": "code",
   "execution_count": null,
   "id": "189c0f9f",
   "metadata": {},
   "outputs": [],
   "source": []
  }
 ],
 "metadata": {
  "kernelspec": {
   "display_name": "Python 3 (ipykernel)",
   "language": "python",
   "name": "python3"
  },
  "language_info": {
   "codemirror_mode": {
    "name": "ipython",
    "version": 3
   },
   "file_extension": ".py",
   "mimetype": "text/x-python",
   "name": "python",
   "nbconvert_exporter": "python",
   "pygments_lexer": "ipython3",
   "version": "3.11.5"
  }
 },
 "nbformat": 4,
 "nbformat_minor": 5
}
